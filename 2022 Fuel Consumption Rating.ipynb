{
 "cells": [
  {
   "cell_type": "markdown",
   "id": "9d735cf0",
   "metadata": {},
   "source": [
    "I want to approach this dataset like I am looking to buy a car. \n",
    "\n",
    "I prefer small cars, but in this case I really do just want to choose a car with the smallest footprint.\n",
    "\n",
    "I also want to know if I can predict a car's emissions given relevant features, and predict a sort of classification on the overall emissions."
   ]
  },
  {
   "cell_type": "code",
   "execution_count": 1,
   "id": "c129f653",
   "metadata": {},
   "outputs": [],
   "source": [
    "import pandas as pd\n",
    "import numpy as np\n",
    "import matplotlib.pyplot as plt\n",
    "import seaborn as sns\n",
    "%matplotlib inline\n"
   ]
  },
  {
   "cell_type": "code",
   "execution_count": 2,
   "id": "acb55598",
   "metadata": {},
   "outputs": [],
   "source": [
    "df = pd.read_csv(r\"C:\\Users\\rripa\\Downloads\\MY2022 Fuel Consumption Ratings.csv\")"
   ]
  },
  {
   "cell_type": "code",
   "execution_count": 3,
   "id": "66e5c7f5",
   "metadata": {},
   "outputs": [
    {
     "data": {
      "text/html": [
       "<div>\n",
       "<style scoped>\n",
       "    .dataframe tbody tr th:only-of-type {\n",
       "        vertical-align: middle;\n",
       "    }\n",
       "\n",
       "    .dataframe tbody tr th {\n",
       "        vertical-align: top;\n",
       "    }\n",
       "\n",
       "    .dataframe thead th {\n",
       "        text-align: right;\n",
       "    }\n",
       "</style>\n",
       "<table border=\"1\" class=\"dataframe\">\n",
       "  <thead>\n",
       "    <tr style=\"text-align: right;\">\n",
       "      <th></th>\n",
       "      <th>Model Year</th>\n",
       "      <th>Make</th>\n",
       "      <th>Model</th>\n",
       "      <th>Vehicle Class</th>\n",
       "      <th>Engine Size(L)</th>\n",
       "      <th>Cylinders</th>\n",
       "      <th>Transmission</th>\n",
       "      <th>Fuel Type</th>\n",
       "      <th>Fuel Consumption (City (L/100 km)</th>\n",
       "      <th>Fuel Consumption(Hwy (L/100 km))</th>\n",
       "      <th>Fuel Consumption(Comb (L/100 km))</th>\n",
       "      <th>Fuel Consumption(Comb (mpg))</th>\n",
       "      <th>CO2 Emissions(g/km)</th>\n",
       "      <th>CO2 Rating</th>\n",
       "      <th>Smog Rating</th>\n",
       "    </tr>\n",
       "  </thead>\n",
       "  <tbody>\n",
       "    <tr>\n",
       "      <th>0</th>\n",
       "      <td>2022</td>\n",
       "      <td>Acura</td>\n",
       "      <td>ILX</td>\n",
       "      <td>Compact</td>\n",
       "      <td>2.4</td>\n",
       "      <td>4</td>\n",
       "      <td>AM8</td>\n",
       "      <td>Z</td>\n",
       "      <td>9.9</td>\n",
       "      <td>7.0</td>\n",
       "      <td>8.6</td>\n",
       "      <td>33</td>\n",
       "      <td>200</td>\n",
       "      <td>6</td>\n",
       "      <td>3</td>\n",
       "    </tr>\n",
       "    <tr>\n",
       "      <th>1</th>\n",
       "      <td>2022</td>\n",
       "      <td>Acura</td>\n",
       "      <td>MDX SH-AWD</td>\n",
       "      <td>SUV: Small</td>\n",
       "      <td>3.5</td>\n",
       "      <td>6</td>\n",
       "      <td>AS10</td>\n",
       "      <td>Z</td>\n",
       "      <td>12.6</td>\n",
       "      <td>9.4</td>\n",
       "      <td>11.2</td>\n",
       "      <td>25</td>\n",
       "      <td>263</td>\n",
       "      <td>4</td>\n",
       "      <td>5</td>\n",
       "    </tr>\n",
       "    <tr>\n",
       "      <th>2</th>\n",
       "      <td>2022</td>\n",
       "      <td>Acura</td>\n",
       "      <td>RDX SH-AWD</td>\n",
       "      <td>SUV: Small</td>\n",
       "      <td>2.0</td>\n",
       "      <td>4</td>\n",
       "      <td>AS10</td>\n",
       "      <td>Z</td>\n",
       "      <td>11.0</td>\n",
       "      <td>8.6</td>\n",
       "      <td>9.9</td>\n",
       "      <td>29</td>\n",
       "      <td>232</td>\n",
       "      <td>5</td>\n",
       "      <td>6</td>\n",
       "    </tr>\n",
       "    <tr>\n",
       "      <th>3</th>\n",
       "      <td>2022</td>\n",
       "      <td>Acura</td>\n",
       "      <td>RDX SH-AWD A-SPEC</td>\n",
       "      <td>SUV: Small</td>\n",
       "      <td>2.0</td>\n",
       "      <td>4</td>\n",
       "      <td>AS10</td>\n",
       "      <td>Z</td>\n",
       "      <td>11.3</td>\n",
       "      <td>9.1</td>\n",
       "      <td>10.3</td>\n",
       "      <td>27</td>\n",
       "      <td>242</td>\n",
       "      <td>5</td>\n",
       "      <td>6</td>\n",
       "    </tr>\n",
       "    <tr>\n",
       "      <th>4</th>\n",
       "      <td>2022</td>\n",
       "      <td>Acura</td>\n",
       "      <td>TLX SH-AWD</td>\n",
       "      <td>Compact</td>\n",
       "      <td>2.0</td>\n",
       "      <td>4</td>\n",
       "      <td>AS10</td>\n",
       "      <td>Z</td>\n",
       "      <td>11.2</td>\n",
       "      <td>8.0</td>\n",
       "      <td>9.8</td>\n",
       "      <td>29</td>\n",
       "      <td>230</td>\n",
       "      <td>5</td>\n",
       "      <td>7</td>\n",
       "    </tr>\n",
       "  </tbody>\n",
       "</table>\n",
       "</div>"
      ],
      "text/plain": [
       "   Model Year   Make              Model Vehicle Class  Engine Size(L)  \\\n",
       "0        2022  Acura                ILX       Compact             2.4   \n",
       "1        2022  Acura         MDX SH-AWD    SUV: Small             3.5   \n",
       "2        2022  Acura         RDX SH-AWD    SUV: Small             2.0   \n",
       "3        2022  Acura  RDX SH-AWD A-SPEC    SUV: Small             2.0   \n",
       "4        2022  Acura         TLX SH-AWD       Compact             2.0   \n",
       "\n",
       "   Cylinders Transmission Fuel Type  Fuel Consumption (City (L/100 km)  \\\n",
       "0          4          AM8         Z                                9.9   \n",
       "1          6         AS10         Z                               12.6   \n",
       "2          4         AS10         Z                               11.0   \n",
       "3          4         AS10         Z                               11.3   \n",
       "4          4         AS10         Z                               11.2   \n",
       "\n",
       "   Fuel Consumption(Hwy (L/100 km))  Fuel Consumption(Comb (L/100 km))  \\\n",
       "0                               7.0                                8.6   \n",
       "1                               9.4                               11.2   \n",
       "2                               8.6                                9.9   \n",
       "3                               9.1                               10.3   \n",
       "4                               8.0                                9.8   \n",
       "\n",
       "   Fuel Consumption(Comb (mpg))  CO2 Emissions(g/km)  CO2 Rating  Smog Rating  \n",
       "0                            33                  200           6            3  \n",
       "1                            25                  263           4            5  \n",
       "2                            29                  232           5            6  \n",
       "3                            27                  242           5            6  \n",
       "4                            29                  230           5            7  "
      ]
     },
     "execution_count": 3,
     "metadata": {},
     "output_type": "execute_result"
    }
   ],
   "source": [
    "df.head()"
   ]
  },
  {
   "cell_type": "markdown",
   "id": "bb212382",
   "metadata": {},
   "source": [
    "Let's first check for missing data."
   ]
  },
  {
   "cell_type": "code",
   "execution_count": 4,
   "id": "95a49cc6",
   "metadata": {},
   "outputs": [
    {
     "data": {
      "text/plain": [
       "Model Year                           0\n",
       "Make                                 0\n",
       "Model                                0\n",
       "Vehicle Class                        0\n",
       "Engine Size(L)                       0\n",
       "Cylinders                            0\n",
       "Transmission                         0\n",
       "Fuel Type                            0\n",
       "Fuel Consumption (City (L/100 km)    0\n",
       "Fuel Consumption(Hwy (L/100 km))     0\n",
       "Fuel Consumption(Comb (L/100 km))    0\n",
       "Fuel Consumption(Comb (mpg))         0\n",
       "CO2 Emissions(g/km)                  0\n",
       "CO2 Rating                           0\n",
       "Smog Rating                          0\n",
       "dtype: int64"
      ]
     },
     "execution_count": 4,
     "metadata": {},
     "output_type": "execute_result"
    }
   ],
   "source": [
    "df.isnull().sum()"
   ]
  },
  {
   "cell_type": "markdown",
   "id": "d61eff9f",
   "metadata": {},
   "source": [
    "Data likely pre-cleaned. Let's see what is categorical and what isnt. This can help with feature engineering down the line, in terms of what features to include and what to not include. Columns with few categories as well as continuous data should be considered for features"
   ]
  },
  {
   "cell_type": "code",
   "execution_count": 5,
   "id": "da663ab1",
   "metadata": {
    "scrolled": true
   },
   "outputs": [
    {
     "name": "stdout",
     "output_type": "stream",
     "text": [
      "2022    946\n",
      "Name: Model Year, dtype: int64\n",
      "\n",
      "\n",
      "\n",
      "\n",
      "Ford             89\n",
      "Chevrolet        80\n",
      "Porsche          77\n",
      "BMW              60\n",
      "GMC              54\n",
      "Toyota           51\n",
      "Audi             45\n",
      "Mercedes-Benz    43\n",
      "Jeep             34\n",
      "Hyundai          29\n",
      "Lexus            28\n",
      "Cadillac         26\n",
      "Kia              25\n",
      "Nissan           23\n",
      "Honda            23\n",
      "Mazda            23\n",
      "Dodge            21\n",
      "MINI             20\n",
      "Subaru           19\n",
      "Volkswagen       18\n",
      "Land Rover       18\n",
      "Ram              16\n",
      "Maserati         13\n",
      "Volvo            12\n",
      "Buick             9\n",
      "Acura             8\n",
      "Lamborghini       8\n",
      "Infiniti          8\n",
      "Genesis           8\n",
      "Bentley           8\n",
      "Jaguar            8\n",
      "Lincoln           7\n",
      "Mitsubishi        7\n",
      "Rolls-Royce       7\n",
      "Alfa Romeo        6\n",
      "Chrysler          6\n",
      "Aston Martin      5\n",
      "Bugatti           3\n",
      "FIAT              1\n",
      "Name: Make, dtype: int64\n",
      "\n",
      "\n",
      "\n",
      "\n",
      "Silverado 4WD Mud Terrain Tire    5\n",
      "Sierra 4WD                        5\n",
      "Silverado 4WD                     5\n",
      "Sierra 4WD Mud Terrain Tire       5\n",
      "Mustang                           5\n",
      "                                 ..\n",
      "Ranger 4WD Tremor                 1\n",
      "Shelby GT500 Mustang              1\n",
      "G70 AWD                           1\n",
      "G90 AWD                           1\n",
      "XC90 T6 AWD                       1\n",
      "Name: Model, Length: 715, dtype: int64\n",
      "\n",
      "\n",
      "\n",
      "\n",
      "SUV: Small                 197\n",
      "SUV: Standard              141\n",
      "Mid-size                   117\n",
      "Pickup truck: Standard     113\n",
      "Subcompact                  80\n",
      "Compact                     69\n",
      "Full-size                   64\n",
      "Two-seater                  51\n",
      "Minicompact                 48\n",
      "Pickup truck: Small         20\n",
      "Station wagon: Small        19\n",
      "Special purpose vehicle     12\n",
      "Station wagon: Mid-size      8\n",
      "Minivan                      7\n",
      "Name: Vehicle Class, dtype: int64\n",
      "\n",
      "\n",
      "\n",
      "\n",
      "2.0    210\n",
      "3.0    134\n",
      "2.5     72\n",
      "3.5     50\n",
      "5.3     49\n",
      "3.6     47\n",
      "4.0     40\n",
      "6.2     33\n",
      "5.0     32\n",
      "1.5     32\n",
      "2.3     26\n",
      "4.4     25\n",
      "1.6     23\n",
      "2.4     21\n",
      "2.7     18\n",
      "2.9     17\n",
      "5.7     15\n",
      "5.2     11\n",
      "1.8      9\n",
      "6.4      9\n",
      "3.8      8\n",
      "1.3      8\n",
      "3.3      7\n",
      "3.4      7\n",
      "6.7      7\n",
      "1.4      6\n",
      "2.8      5\n",
      "1.2      4\n",
      "6.0      4\n",
      "3.7      4\n",
      "8.0      3\n",
      "3.2      3\n",
      "6.5      3\n",
      "5.6      2\n",
      "6.6      1\n",
      "4.6      1\n",
      "Name: Engine Size(L), dtype: int64\n",
      "\n",
      "\n",
      "\n",
      "\n",
      "4     404\n",
      "6     295\n",
      "8     197\n",
      "3      21\n",
      "12     17\n",
      "10      8\n",
      "16      3\n",
      "5       1\n",
      "Name: Cylinders, dtype: int64\n",
      "\n",
      "\n",
      "\n",
      "\n",
      "AS8     212\n",
      "A8      100\n",
      "AS10     87\n",
      "A10      72\n",
      "M6       71\n",
      "AM7      70\n",
      "A9       65\n",
      "AM8      52\n",
      "AV       43\n",
      "AS6      39\n",
      "A6       24\n",
      "AV8      23\n",
      "AS9      19\n",
      "M7       14\n",
      "AV7      10\n",
      "AM6      10\n",
      "AV6       8\n",
      "AV10      8\n",
      "AS7       7\n",
      "M5        5\n",
      "AV1       4\n",
      "AS5       2\n",
      "A7        1\n",
      "Name: Transmission, dtype: int64\n",
      "\n",
      "\n",
      "\n",
      "\n",
      "Z    458\n",
      "X    446\n",
      "D     28\n",
      "E     14\n",
      "Name: Fuel Type, dtype: int64\n",
      "\n",
      "\n",
      "\n",
      "\n",
      "12.8    22\n",
      "13.8    21\n",
      "10.5    20\n",
      "11.0    19\n",
      "11.2    18\n",
      "        ..\n",
      "20.3     1\n",
      "15.5     1\n",
      "5.4      1\n",
      "17.8     1\n",
      "5.9      1\n",
      "Name: Fuel Consumption (City (L/100 km), Length: 149, dtype: int64\n",
      "\n",
      "\n",
      "\n",
      "\n",
      "9.8     27\n",
      "8.7     27\n",
      "9.6     27\n",
      "9.4     24\n",
      "12.7    22\n",
      "        ..\n",
      "16.6     1\n",
      "14.8     1\n",
      "14.4     1\n",
      "14.3     1\n",
      "4.7      1\n",
      "Name: Fuel Consumption(Hwy (L/100 km)), Length: 107, dtype: int64\n",
      "\n",
      "\n",
      "\n",
      "\n",
      "9.1     20\n",
      "10.5    20\n",
      "13.8    20\n",
      "9.4     19\n",
      "12.2    18\n",
      "        ..\n",
      "17.8     1\n",
      "18.1     1\n",
      "17.4     1\n",
      "17.9     1\n",
      "6.1      1\n",
      "Name: Fuel Consumption(Comb (L/100 km)), Length: 131, dtype: int64\n",
      "\n",
      "\n",
      "\n",
      "\n",
      "20    69\n",
      "24    66\n",
      "25    60\n",
      "27    57\n",
      "22    57\n",
      "29    53\n",
      "19    50\n",
      "23    49\n",
      "30    48\n",
      "26    48\n",
      "31    47\n",
      "28    34\n",
      "32    32\n",
      "21    30\n",
      "34    27\n",
      "18    27\n",
      "36    24\n",
      "37    24\n",
      "17    21\n",
      "35    16\n",
      "33    15\n",
      "40    12\n",
      "39    12\n",
      "38    11\n",
      "42     9\n",
      "13     6\n",
      "16     4\n",
      "47     3\n",
      "43     3\n",
      "41     3\n",
      "14     3\n",
      "56     2\n",
      "53     2\n",
      "63     2\n",
      "46     2\n",
      "11     2\n",
      "15     2\n",
      "61     2\n",
      "44     2\n",
      "67     1\n",
      "71     1\n",
      "51     1\n",
      "64     1\n",
      "49     1\n",
      "48     1\n",
      "58     1\n",
      "55     1\n",
      "45     1\n",
      "59     1\n",
      "Name: Fuel Consumption(Comb (mpg)), dtype: int64\n",
      "\n",
      "\n",
      "\n",
      "\n",
      "275    15\n",
      "252    13\n",
      "289    12\n",
      "323    12\n",
      "271    11\n",
      "       ..\n",
      "384     1\n",
      "350     1\n",
      "365     1\n",
      "313     1\n",
      "161     1\n",
      "Name: CO2 Emissions(g/km), Length: 242, dtype: int64\n",
      "\n",
      "\n",
      "\n",
      "\n",
      "5     266\n",
      "4     228\n",
      "3     189\n",
      "6     113\n",
      "7      71\n",
      "2      48\n",
      "9      13\n",
      "8      10\n",
      "1       7\n",
      "10      1\n",
      "Name: CO2 Rating, dtype: int64\n",
      "\n",
      "\n",
      "\n",
      "\n",
      "5    308\n",
      "3    198\n",
      "7    194\n",
      "6    189\n",
      "1     57\n",
      "Name: Smog Rating, dtype: int64\n",
      "\n",
      "\n",
      "\n",
      "\n"
     ]
    }
   ],
   "source": [
    "for i in df.columns:\n",
    "    print(df[i].value_counts())\n",
    "    print('\\n')\n",
    "    print('\\n')"
   ]
  },
  {
   "cell_type": "markdown",
   "id": "5bef81c7",
   "metadata": {},
   "source": [
    "Features: Cylinders, Transmission ,Fuel Type, Fuel consumption, emissions\n",
    "\n",
    "Predictors: CO2 Rating, Smog Rating\n",
    "\n",
    "\n",
    "I should break transmission and fuel type down into something readable"
   ]
  },
  {
   "cell_type": "code",
   "execution_count": 6,
   "id": "97e5a38f",
   "metadata": {},
   "outputs": [
    {
     "data": {
      "text/html": [
       "<div>\n",
       "<style scoped>\n",
       "    .dataframe tbody tr th:only-of-type {\n",
       "        vertical-align: middle;\n",
       "    }\n",
       "\n",
       "    .dataframe tbody tr th {\n",
       "        vertical-align: top;\n",
       "    }\n",
       "\n",
       "    .dataframe thead th {\n",
       "        text-align: right;\n",
       "    }\n",
       "</style>\n",
       "<table border=\"1\" class=\"dataframe\">\n",
       "  <thead>\n",
       "    <tr style=\"text-align: right;\">\n",
       "      <th></th>\n",
       "      <th>Model Year</th>\n",
       "      <th>Make</th>\n",
       "      <th>Model</th>\n",
       "      <th>Vehicle Class</th>\n",
       "      <th>Engine Size(L)</th>\n",
       "      <th>Cylinders</th>\n",
       "      <th>Transmission</th>\n",
       "      <th>Fuel Type</th>\n",
       "      <th>Fuel Consumption (City (L/100 km)</th>\n",
       "      <th>Fuel Consumption(Hwy (L/100 km))</th>\n",
       "      <th>Fuel Consumption(Comb (L/100 km))</th>\n",
       "      <th>Fuel Consumption(Comb (mpg))</th>\n",
       "      <th>CO2 Emissions(g/km)</th>\n",
       "      <th>CO2 Rating</th>\n",
       "      <th>Smog Rating</th>\n",
       "    </tr>\n",
       "  </thead>\n",
       "  <tbody>\n",
       "    <tr>\n",
       "      <th>0</th>\n",
       "      <td>2022</td>\n",
       "      <td>Acura</td>\n",
       "      <td>ILX</td>\n",
       "      <td>Compact</td>\n",
       "      <td>2.4</td>\n",
       "      <td>4</td>\n",
       "      <td>AM8</td>\n",
       "      <td>Z</td>\n",
       "      <td>9.9</td>\n",
       "      <td>7.0</td>\n",
       "      <td>8.6</td>\n",
       "      <td>33</td>\n",
       "      <td>200</td>\n",
       "      <td>6</td>\n",
       "      <td>3</td>\n",
       "    </tr>\n",
       "    <tr>\n",
       "      <th>1</th>\n",
       "      <td>2022</td>\n",
       "      <td>Acura</td>\n",
       "      <td>MDX SH-AWD</td>\n",
       "      <td>SUV: Small</td>\n",
       "      <td>3.5</td>\n",
       "      <td>6</td>\n",
       "      <td>AS10</td>\n",
       "      <td>Z</td>\n",
       "      <td>12.6</td>\n",
       "      <td>9.4</td>\n",
       "      <td>11.2</td>\n",
       "      <td>25</td>\n",
       "      <td>263</td>\n",
       "      <td>4</td>\n",
       "      <td>5</td>\n",
       "    </tr>\n",
       "    <tr>\n",
       "      <th>2</th>\n",
       "      <td>2022</td>\n",
       "      <td>Acura</td>\n",
       "      <td>RDX SH-AWD</td>\n",
       "      <td>SUV: Small</td>\n",
       "      <td>2.0</td>\n",
       "      <td>4</td>\n",
       "      <td>AS10</td>\n",
       "      <td>Z</td>\n",
       "      <td>11.0</td>\n",
       "      <td>8.6</td>\n",
       "      <td>9.9</td>\n",
       "      <td>29</td>\n",
       "      <td>232</td>\n",
       "      <td>5</td>\n",
       "      <td>6</td>\n",
       "    </tr>\n",
       "    <tr>\n",
       "      <th>3</th>\n",
       "      <td>2022</td>\n",
       "      <td>Acura</td>\n",
       "      <td>RDX SH-AWD A-SPEC</td>\n",
       "      <td>SUV: Small</td>\n",
       "      <td>2.0</td>\n",
       "      <td>4</td>\n",
       "      <td>AS10</td>\n",
       "      <td>Z</td>\n",
       "      <td>11.3</td>\n",
       "      <td>9.1</td>\n",
       "      <td>10.3</td>\n",
       "      <td>27</td>\n",
       "      <td>242</td>\n",
       "      <td>5</td>\n",
       "      <td>6</td>\n",
       "    </tr>\n",
       "    <tr>\n",
       "      <th>4</th>\n",
       "      <td>2022</td>\n",
       "      <td>Acura</td>\n",
       "      <td>TLX SH-AWD</td>\n",
       "      <td>Compact</td>\n",
       "      <td>2.0</td>\n",
       "      <td>4</td>\n",
       "      <td>AS10</td>\n",
       "      <td>Z</td>\n",
       "      <td>11.2</td>\n",
       "      <td>8.0</td>\n",
       "      <td>9.8</td>\n",
       "      <td>29</td>\n",
       "      <td>230</td>\n",
       "      <td>5</td>\n",
       "      <td>7</td>\n",
       "    </tr>\n",
       "  </tbody>\n",
       "</table>\n",
       "</div>"
      ],
      "text/plain": [
       "   Model Year   Make              Model Vehicle Class  Engine Size(L)  \\\n",
       "0        2022  Acura                ILX       Compact             2.4   \n",
       "1        2022  Acura         MDX SH-AWD    SUV: Small             3.5   \n",
       "2        2022  Acura         RDX SH-AWD    SUV: Small             2.0   \n",
       "3        2022  Acura  RDX SH-AWD A-SPEC    SUV: Small             2.0   \n",
       "4        2022  Acura         TLX SH-AWD       Compact             2.0   \n",
       "\n",
       "   Cylinders Transmission Fuel Type  Fuel Consumption (City (L/100 km)  \\\n",
       "0          4          AM8         Z                                9.9   \n",
       "1          6         AS10         Z                               12.6   \n",
       "2          4         AS10         Z                               11.0   \n",
       "3          4         AS10         Z                               11.3   \n",
       "4          4         AS10         Z                               11.2   \n",
       "\n",
       "   Fuel Consumption(Hwy (L/100 km))  Fuel Consumption(Comb (L/100 km))  \\\n",
       "0                               7.0                                8.6   \n",
       "1                               9.4                               11.2   \n",
       "2                               8.6                                9.9   \n",
       "3                               9.1                               10.3   \n",
       "4                               8.0                                9.8   \n",
       "\n",
       "   Fuel Consumption(Comb (mpg))  CO2 Emissions(g/km)  CO2 Rating  Smog Rating  \n",
       "0                            33                  200           6            3  \n",
       "1                            25                  263           4            5  \n",
       "2                            29                  232           5            6  \n",
       "3                            27                  242           5            6  \n",
       "4                            29                  230           5            7  "
      ]
     },
     "execution_count": 6,
     "metadata": {},
     "output_type": "execute_result"
    }
   ],
   "source": [
    "df.head()"
   ]
  },
  {
   "cell_type": "code",
   "execution_count": 7,
   "id": "dbdb9d6a",
   "metadata": {},
   "outputs": [],
   "source": [
    "df['Transmission'] = df['Transmission'].map(lambda x: 'Automated w/ Select Shift' if 'AS' in x else('Automated Manual' if 'AM' in x else('Manual' if 'M' in x else('Continuously Variable' if 'AV' in x else('Automated' if 'A' in x else x)))))\n"
   ]
  },
  {
   "cell_type": "code",
   "execution_count": 8,
   "id": "213ba787",
   "metadata": {
    "scrolled": true
   },
   "outputs": [
    {
     "data": {
      "text/plain": [
       "Automated w/ Select Shift    366\n",
       "Automated                    262\n",
       "Automated Manual             132\n",
       "Continuously Variable         96\n",
       "Manual                        90\n",
       "Name: Transmission, dtype: int64"
      ]
     },
     "execution_count": 8,
     "metadata": {},
     "output_type": "execute_result"
    }
   ],
   "source": [
    "df['Transmission'].value_counts()"
   ]
  },
  {
   "cell_type": "code",
   "execution_count": 9,
   "id": "7f9e8935",
   "metadata": {},
   "outputs": [
    {
     "data": {
      "text/html": [
       "<div>\n",
       "<style scoped>\n",
       "    .dataframe tbody tr th:only-of-type {\n",
       "        vertical-align: middle;\n",
       "    }\n",
       "\n",
       "    .dataframe tbody tr th {\n",
       "        vertical-align: top;\n",
       "    }\n",
       "\n",
       "    .dataframe thead th {\n",
       "        text-align: right;\n",
       "    }\n",
       "</style>\n",
       "<table border=\"1\" class=\"dataframe\">\n",
       "  <thead>\n",
       "    <tr style=\"text-align: right;\">\n",
       "      <th></th>\n",
       "      <th>Model Year</th>\n",
       "      <th>Make</th>\n",
       "      <th>Model</th>\n",
       "      <th>Vehicle Class</th>\n",
       "      <th>Engine Size(L)</th>\n",
       "      <th>Cylinders</th>\n",
       "      <th>Transmission</th>\n",
       "      <th>Fuel Type</th>\n",
       "      <th>Fuel Consumption (City (L/100 km)</th>\n",
       "      <th>Fuel Consumption(Hwy (L/100 km))</th>\n",
       "      <th>Fuel Consumption(Comb (L/100 km))</th>\n",
       "      <th>Fuel Consumption(Comb (mpg))</th>\n",
       "      <th>CO2 Emissions(g/km)</th>\n",
       "      <th>CO2 Rating</th>\n",
       "      <th>Smog Rating</th>\n",
       "    </tr>\n",
       "  </thead>\n",
       "  <tbody>\n",
       "    <tr>\n",
       "      <th>0</th>\n",
       "      <td>2022</td>\n",
       "      <td>Acura</td>\n",
       "      <td>ILX</td>\n",
       "      <td>Compact</td>\n",
       "      <td>2.4</td>\n",
       "      <td>4</td>\n",
       "      <td>Automated Manual</td>\n",
       "      <td>Z</td>\n",
       "      <td>9.9</td>\n",
       "      <td>7.0</td>\n",
       "      <td>8.6</td>\n",
       "      <td>33</td>\n",
       "      <td>200</td>\n",
       "      <td>6</td>\n",
       "      <td>3</td>\n",
       "    </tr>\n",
       "    <tr>\n",
       "      <th>1</th>\n",
       "      <td>2022</td>\n",
       "      <td>Acura</td>\n",
       "      <td>MDX SH-AWD</td>\n",
       "      <td>SUV: Small</td>\n",
       "      <td>3.5</td>\n",
       "      <td>6</td>\n",
       "      <td>Automated w/ Select Shift</td>\n",
       "      <td>Z</td>\n",
       "      <td>12.6</td>\n",
       "      <td>9.4</td>\n",
       "      <td>11.2</td>\n",
       "      <td>25</td>\n",
       "      <td>263</td>\n",
       "      <td>4</td>\n",
       "      <td>5</td>\n",
       "    </tr>\n",
       "  </tbody>\n",
       "</table>\n",
       "</div>"
      ],
      "text/plain": [
       "   Model Year   Make       Model Vehicle Class  Engine Size(L)  Cylinders  \\\n",
       "0        2022  Acura         ILX       Compact             2.4          4   \n",
       "1        2022  Acura  MDX SH-AWD    SUV: Small             3.5          6   \n",
       "\n",
       "                Transmission Fuel Type  Fuel Consumption (City (L/100 km)  \\\n",
       "0           Automated Manual         Z                                9.9   \n",
       "1  Automated w/ Select Shift         Z                               12.6   \n",
       "\n",
       "   Fuel Consumption(Hwy (L/100 km))  Fuel Consumption(Comb (L/100 km))  \\\n",
       "0                               7.0                                8.6   \n",
       "1                               9.4                               11.2   \n",
       "\n",
       "   Fuel Consumption(Comb (mpg))  CO2 Emissions(g/km)  CO2 Rating  Smog Rating  \n",
       "0                            33                  200           6            3  \n",
       "1                            25                  263           4            5  "
      ]
     },
     "execution_count": 9,
     "metadata": {},
     "output_type": "execute_result"
    }
   ],
   "source": [
    "df.head(2)"
   ]
  },
  {
   "cell_type": "markdown",
   "id": "2dad9c45",
   "metadata": {},
   "source": [
    "Upon clarification, it looks like fuel type can be re-classified for better context"
   ]
  },
  {
   "cell_type": "code",
   "execution_count": 10,
   "id": "4b6a06eb",
   "metadata": {},
   "outputs": [],
   "source": [
    "df['Fuel Type'] = df['Fuel Type'].apply(lambda x: 'Premium Gasoline' if 'Z' in x else('Regular Gasoline' if 'X' in x else('Diesel' if 'D' in x else('E85 Flex Fuel' if 'E' in x else x))))"
   ]
  },
  {
   "cell_type": "code",
   "execution_count": 11,
   "id": "4cfc91e1",
   "metadata": {
    "scrolled": true
   },
   "outputs": [
    {
     "name": "stdout",
     "output_type": "stream",
     "text": [
      "<class 'pandas.core.frame.DataFrame'>\n",
      "RangeIndex: 946 entries, 0 to 945\n",
      "Data columns (total 15 columns):\n",
      " #   Column                             Non-Null Count  Dtype  \n",
      "---  ------                             --------------  -----  \n",
      " 0   Model Year                         946 non-null    int64  \n",
      " 1   Make                               946 non-null    object \n",
      " 2   Model                              946 non-null    object \n",
      " 3   Vehicle Class                      946 non-null    object \n",
      " 4   Engine Size(L)                     946 non-null    float64\n",
      " 5   Cylinders                          946 non-null    int64  \n",
      " 6   Transmission                       946 non-null    object \n",
      " 7   Fuel Type                          946 non-null    object \n",
      " 8   Fuel Consumption (City (L/100 km)  946 non-null    float64\n",
      " 9   Fuel Consumption(Hwy (L/100 km))   946 non-null    float64\n",
      " 10  Fuel Consumption(Comb (L/100 km))  946 non-null    float64\n",
      " 11  Fuel Consumption(Comb (mpg))       946 non-null    int64  \n",
      " 12  CO2 Emissions(g/km)                946 non-null    int64  \n",
      " 13  CO2 Rating                         946 non-null    int64  \n",
      " 14  Smog Rating                        946 non-null    int64  \n",
      "dtypes: float64(4), int64(6), object(5)\n",
      "memory usage: 111.0+ KB\n"
     ]
    }
   ],
   "source": [
    "df.info()"
   ]
  },
  {
   "cell_type": "markdown",
   "id": "ba2b1b68",
   "metadata": {},
   "source": [
    "# Data Visualization & Analysis"
   ]
  },
  {
   "cell_type": "code",
   "execution_count": 12,
   "id": "c2b8e91f",
   "metadata": {},
   "outputs": [
    {
     "data": {
      "text/plain": [
       "<AxesSubplot:xlabel='Fuel Consumption(Comb (L/100 km))', ylabel='CO2 Emissions(g/km)'>"
      ]
     },
     "execution_count": 12,
     "metadata": {},
     "output_type": "execute_result"
    },
    {
     "data": {
      "image/png": "[encoded data removed]",
      "text/plain": [
       "<Figure size 432x288 with 1 Axes>"
      ]
     },
     "metadata": {
      "needs_background": "light"
     },
     "output_type": "display_data"
    }
   ],
   "source": [
    "sns.scatterplot(data=df, x = 'Fuel Consumption(Comb (L/100 km))',y='CO2 Emissions(g/km)', hue='Fuel Type')"
   ]
  },
  {
   "cell_type": "code",
   "execution_count": 13,
   "id": "1e8655e0",
   "metadata": {},
   "outputs": [
    {
     "data": {
      "text/plain": [
       "<AxesSubplot:xlabel='Fuel Consumption(Comb (L/100 km))', ylabel='CO2 Emissions(g/km)'>"
      ]
     },
     "execution_count": 13,
     "metadata": {},
     "output_type": "execute_result"
    },
    {
     "data": {
      "image/png": "[encoded data removed]",
      "text/plain": [
       "<Figure size 432x288 with 1 Axes>"
      ]
     },
     "metadata": {
      "needs_background": "light"
     },
     "output_type": "display_data"
    }
   ],
   "source": [
    "sns.scatterplot(data=df, x = 'Fuel Consumption(Comb (L/100 km))',y='CO2 Emissions(g/km)', hue='Transmission')"
   ]
  },
  {
   "cell_type": "code",
   "execution_count": 14,
   "id": "4562c8e6",
   "metadata": {},
   "outputs": [
    {
     "data": {
      "text/plain": [
       "<seaborn.axisgrid.JointGrid at 0x1768a23d580>"
      ]
     },
     "execution_count": 14,
     "metadata": {},
     "output_type": "execute_result"
    },
    {
     "data": {
      "image/png": "[encoded data removed]",
      "text/plain": [
       "<Figure size 432x432 with 3 Axes>"
      ]
     },
     "metadata": {
      "needs_background": "light"
     },
     "output_type": "display_data"
    }
   ],
   "source": [
    "sns.jointplot(data=df, x = 'CO2 Rating',y='CO2 Emissions(g/km)', hue='Fuel Type', alpha = 0.6)"
   ]
  },
  {
   "cell_type": "code",
   "execution_count": 15,
   "id": "d18a13f0",
   "metadata": {},
   "outputs": [
    {
     "data": {
      "text/plain": [
       "<seaborn.axisgrid.JointGrid at 0x1768a352550>"
      ]
     },
     "execution_count": 15,
     "metadata": {},
     "output_type": "execute_result"
    },
    {
     "data": {
      "image/png": "[encoded data removed]",
      "text/plain": [
       "<Figure size 432x432 with 3 Axes>"
      ]
     },
     "metadata": {
      "needs_background": "light"
     },
     "output_type": "display_data"
    }
   ],
   "source": [
    "sns.jointplot(data=df, x = 'CO2 Rating',y='CO2 Emissions(g/km)', hue='Transmission', alpha = 0.6)"
   ]
  },
  {
   "cell_type": "code",
   "execution_count": 16,
   "id": "8deeab62",
   "metadata": {},
   "outputs": [
    {
     "data": {
      "text/plain": [
       "<seaborn.axisgrid.JointGrid at 0x1768a4ea7c0>"
      ]
     },
     "execution_count": 16,
     "metadata": {},
     "output_type": "execute_result"
    },
    {
     "data": {
      "image/png": "[encoded data removed]",
      "text/plain": [
       "<Figure size 432x432 with 3 Axes>"
      ]
     },
     "metadata": {
      "needs_background": "light"
     },
     "output_type": "display_data"
    }
   ],
   "source": [
    "sns.jointplot(kind='scatter',data=df, x ='Engine Size(L)', y='Smog Rating', hue='Fuel Type')"
   ]
  },
  {
   "cell_type": "code",
   "execution_count": 17,
   "id": "48831f87",
   "metadata": {},
   "outputs": [
    {
     "data": {
      "text/plain": [
       "<AxesSubplot:xlabel='Fuel Consumption(Comb (mpg))', ylabel='CO2 Emissions(g/km)'>"
      ]
     },
     "execution_count": 17,
     "metadata": {},
     "output_type": "execute_result"
    },
    {
     "data": {
      "image/png": "[encoded data removed]",
      "text/plain": [
       "<Figure size 432x288 with 1 Axes>"
      ]
     },
     "metadata": {
      "needs_background": "light"
     },
     "output_type": "display_data"
    }
   ],
   "source": [
    "sns.scatterplot(data = df, x='Fuel Consumption(Comb (mpg))', y='CO2 Emissions(g/km)',hue='Fuel Type')"
   ]
  },
  {
   "cell_type": "code",
   "execution_count": 18,
   "id": "44a97467",
   "metadata": {
    "scrolled": true
   },
   "outputs": [
    {
     "data": {
      "text/plain": [
       "<AxesSubplot:ylabel='Count'>"
      ]
     },
     "execution_count": 18,
     "metadata": {},
     "output_type": "execute_result"
    },
    {
     "data": {
      "image/png": "[encoded data removed]",
      "text/plain": [
       "<Figure size 432x288 with 1 Axes>"
      ]
     },
     "metadata": {
      "needs_background": "light"
     },
     "output_type": "display_data"
    }
   ],
   "source": [
    "sns.histplot(df[['Fuel Consumption (City (L/100 km)','Fuel Consumption(Hwy (L/100 km))']],alpha=0.8,palette='BrBG')"
   ]
  },
  {
   "cell_type": "code",
   "execution_count": 19,
   "id": "81030eae",
   "metadata": {},
   "outputs": [
    {
     "data": {
      "text/plain": [
       "<AxesSubplot:xlabel='Engine Size(L)', ylabel='Cylinders'>"
      ]
     },
     "execution_count": 19,
     "metadata": {},
     "output_type": "execute_result"
    },
    {
     "data": {
      "image/png": "[encoded data removed]",
      "text/plain": [
       "<Figure size 432x288 with 1 Axes>"
      ]
     },
     "metadata": {
      "needs_background": "light"
     },
     "output_type": "display_data"
    }
   ],
   "source": [
    "sns.scatterplot(data=df, x='Engine Size(L)', y='Cylinders', hue='Fuel Type')"
   ]
  },
  {
   "cell_type": "code",
   "execution_count": 20,
   "id": "9ba24e26",
   "metadata": {},
   "outputs": [
    {
     "data": {
      "text/plain": [
       "<AxesSubplot:>"
      ]
     },
     "execution_count": 20,
     "metadata": {},
     "output_type": "execute_result"
    },
    {
     "data": {
      "image/png": "[encoded data removed]",
      "text/plain": [
       "<Figure size 432x288 with 2 Axes>"
      ]
     },
     "metadata": {
      "needs_background": "light"
     },
     "output_type": "display_data"
    }
   ],
   "source": [
    "sns.heatmap(df.corr(),annot=True, cmap='coolwarm')"
   ]
  },
  {
   "cell_type": "markdown",
   "id": "1bf028d9",
   "metadata": {},
   "source": [
    "What is the car that likely has the most power for the lowest footprint?\n",
    "\n",
    "Cylinders and Engine Size likely have a huge role on power. Mpg and CO2 emissions also have a huge effect on a car's footprint"
   ]
  },
  {
   "cell_type": "code",
   "execution_count": 21,
   "id": "77a91f92",
   "metadata": {},
   "outputs": [
    {
     "data": {
      "text/html": [
       "<div>\n",
       "<style scoped>\n",
       "    .dataframe tbody tr th:only-of-type {\n",
       "        vertical-align: middle;\n",
       "    }\n",
       "\n",
       "    .dataframe tbody tr th {\n",
       "        vertical-align: top;\n",
       "    }\n",
       "\n",
       "    .dataframe thead th {\n",
       "        text-align: right;\n",
       "    }\n",
       "</style>\n",
       "<table border=\"1\" class=\"dataframe\">\n",
       "  <thead>\n",
       "    <tr style=\"text-align: right;\">\n",
       "      <th></th>\n",
       "      <th>Model Year</th>\n",
       "      <th>Make</th>\n",
       "      <th>Model</th>\n",
       "      <th>Vehicle Class</th>\n",
       "      <th>Engine Size(L)</th>\n",
       "      <th>Cylinders</th>\n",
       "      <th>Transmission</th>\n",
       "      <th>Fuel Type</th>\n",
       "      <th>Fuel Consumption (City (L/100 km)</th>\n",
       "      <th>Fuel Consumption(Hwy (L/100 km))</th>\n",
       "      <th>Fuel Consumption(Comb (L/100 km))</th>\n",
       "      <th>Fuel Consumption(Comb (mpg))</th>\n",
       "      <th>CO2 Emissions(g/km)</th>\n",
       "      <th>CO2 Rating</th>\n",
       "      <th>Smog Rating</th>\n",
       "    </tr>\n",
       "  </thead>\n",
       "  <tbody>\n",
       "    <tr>\n",
       "      <th>0</th>\n",
       "      <td>2022</td>\n",
       "      <td>Acura</td>\n",
       "      <td>ILX</td>\n",
       "      <td>Compact</td>\n",
       "      <td>2.4</td>\n",
       "      <td>4</td>\n",
       "      <td>Automated Manual</td>\n",
       "      <td>Premium Gasoline</td>\n",
       "      <td>9.9</td>\n",
       "      <td>7.0</td>\n",
       "      <td>8.6</td>\n",
       "      <td>33</td>\n",
       "      <td>200</td>\n",
       "      <td>6</td>\n",
       "      <td>3</td>\n",
       "    </tr>\n",
       "    <tr>\n",
       "      <th>1</th>\n",
       "      <td>2022</td>\n",
       "      <td>Acura</td>\n",
       "      <td>MDX SH-AWD</td>\n",
       "      <td>SUV: Small</td>\n",
       "      <td>3.5</td>\n",
       "      <td>6</td>\n",
       "      <td>Automated w/ Select Shift</td>\n",
       "      <td>Premium Gasoline</td>\n",
       "      <td>12.6</td>\n",
       "      <td>9.4</td>\n",
       "      <td>11.2</td>\n",
       "      <td>25</td>\n",
       "      <td>263</td>\n",
       "      <td>4</td>\n",
       "      <td>5</td>\n",
       "    </tr>\n",
       "    <tr>\n",
       "      <th>2</th>\n",
       "      <td>2022</td>\n",
       "      <td>Acura</td>\n",
       "      <td>RDX SH-AWD</td>\n",
       "      <td>SUV: Small</td>\n",
       "      <td>2.0</td>\n",
       "      <td>4</td>\n",
       "      <td>Automated w/ Select Shift</td>\n",
       "      <td>Premium Gasoline</td>\n",
       "      <td>11.0</td>\n",
       "      <td>8.6</td>\n",
       "      <td>9.9</td>\n",
       "      <td>29</td>\n",
       "      <td>232</td>\n",
       "      <td>5</td>\n",
       "      <td>6</td>\n",
       "    </tr>\n",
       "    <tr>\n",
       "      <th>3</th>\n",
       "      <td>2022</td>\n",
       "      <td>Acura</td>\n",
       "      <td>RDX SH-AWD A-SPEC</td>\n",
       "      <td>SUV: Small</td>\n",
       "      <td>2.0</td>\n",
       "      <td>4</td>\n",
       "      <td>Automated w/ Select Shift</td>\n",
       "      <td>Premium Gasoline</td>\n",
       "      <td>11.3</td>\n",
       "      <td>9.1</td>\n",
       "      <td>10.3</td>\n",
       "      <td>27</td>\n",
       "      <td>242</td>\n",
       "      <td>5</td>\n",
       "      <td>6</td>\n",
       "    </tr>\n",
       "    <tr>\n",
       "      <th>4</th>\n",
       "      <td>2022</td>\n",
       "      <td>Acura</td>\n",
       "      <td>TLX SH-AWD</td>\n",
       "      <td>Compact</td>\n",
       "      <td>2.0</td>\n",
       "      <td>4</td>\n",
       "      <td>Automated w/ Select Shift</td>\n",
       "      <td>Premium Gasoline</td>\n",
       "      <td>11.2</td>\n",
       "      <td>8.0</td>\n",
       "      <td>9.8</td>\n",
       "      <td>29</td>\n",
       "      <td>230</td>\n",
       "      <td>5</td>\n",
       "      <td>7</td>\n",
       "    </tr>\n",
       "  </tbody>\n",
       "</table>\n",
       "</div>"
      ],
      "text/plain": [
       "   Model Year   Make              Model Vehicle Class  Engine Size(L)  \\\n",
       "0        2022  Acura                ILX       Compact             2.4   \n",
       "1        2022  Acura         MDX SH-AWD    SUV: Small             3.5   \n",
       "2        2022  Acura         RDX SH-AWD    SUV: Small             2.0   \n",
       "3        2022  Acura  RDX SH-AWD A-SPEC    SUV: Small             2.0   \n",
       "4        2022  Acura         TLX SH-AWD       Compact             2.0   \n",
       "\n",
       "   Cylinders               Transmission         Fuel Type  \\\n",
       "0          4           Automated Manual  Premium Gasoline   \n",
       "1          6  Automated w/ Select Shift  Premium Gasoline   \n",
       "2          4  Automated w/ Select Shift  Premium Gasoline   \n",
       "3          4  Automated w/ Select Shift  Premium Gasoline   \n",
       "4          4  Automated w/ Select Shift  Premium Gasoline   \n",
       "\n",
       "   Fuel Consumption (City (L/100 km)  Fuel Consumption(Hwy (L/100 km))  \\\n",
       "0                                9.9                               7.0   \n",
       "1                               12.6                               9.4   \n",
       "2                               11.0                               8.6   \n",
       "3                               11.3                               9.1   \n",
       "4                               11.2                               8.0   \n",
       "\n",
       "   Fuel Consumption(Comb (L/100 km))  Fuel Consumption(Comb (mpg))  \\\n",
       "0                                8.6                            33   \n",
       "1                               11.2                            25   \n",
       "2                                9.9                            29   \n",
       "3                               10.3                            27   \n",
       "4                                9.8                            29   \n",
       "\n",
       "   CO2 Emissions(g/km)  CO2 Rating  Smog Rating  \n",
       "0                  200           6            3  \n",
       "1                  263           4            5  \n",
       "2                  232           5            6  \n",
       "3                  242           5            6  \n",
       "4                  230           5            7  "
      ]
     },
     "execution_count": 21,
     "metadata": {},
     "output_type": "execute_result"
    }
   ],
   "source": [
    "df.head()"
   ]
  },
  {
   "cell_type": "code",
   "execution_count": 22,
   "id": "7ac72264",
   "metadata": {},
   "outputs": [
    {
     "data": {
      "text/html": [
       "<div>\n",
       "<style scoped>\n",
       "    .dataframe tbody tr th:only-of-type {\n",
       "        vertical-align: middle;\n",
       "    }\n",
       "\n",
       "    .dataframe tbody tr th {\n",
       "        vertical-align: top;\n",
       "    }\n",
       "\n",
       "    .dataframe thead th {\n",
       "        text-align: right;\n",
       "    }\n",
       "</style>\n",
       "<table border=\"1\" class=\"dataframe\">\n",
       "  <thead>\n",
       "    <tr style=\"text-align: right;\">\n",
       "      <th></th>\n",
       "      <th>Model Year</th>\n",
       "      <th>Make</th>\n",
       "      <th>Model</th>\n",
       "      <th>Vehicle Class</th>\n",
       "      <th>Engine Size(L)</th>\n",
       "      <th>Cylinders</th>\n",
       "      <th>Transmission</th>\n",
       "      <th>Fuel Type</th>\n",
       "      <th>Fuel Consumption (City (L/100 km)</th>\n",
       "      <th>Fuel Consumption(Hwy (L/100 km))</th>\n",
       "      <th>Fuel Consumption(Comb (L/100 km))</th>\n",
       "      <th>Fuel Consumption(Comb (mpg))</th>\n",
       "      <th>CO2 Emissions(g/km)</th>\n",
       "      <th>CO2 Rating</th>\n",
       "      <th>Smog Rating</th>\n",
       "    </tr>\n",
       "  </thead>\n",
       "  <tbody>\n",
       "    <tr>\n",
       "      <th>460</th>\n",
       "      <td>2022</td>\n",
       "      <td>Hyundai</td>\n",
       "      <td>IONIQ Blue</td>\n",
       "      <td>Full-size</td>\n",
       "      <td>1.6</td>\n",
       "      <td>4</td>\n",
       "      <td>Automated Manual</td>\n",
       "      <td>Regular Gasoline</td>\n",
       "      <td>4.0</td>\n",
       "      <td>3.9</td>\n",
       "      <td>4.0</td>\n",
       "      <td>71</td>\n",
       "      <td>94</td>\n",
       "      <td>10</td>\n",
       "      <td>7</td>\n",
       "    </tr>\n",
       "    <tr>\n",
       "      <th>459</th>\n",
       "      <td>2022</td>\n",
       "      <td>Hyundai</td>\n",
       "      <td>IONIQ</td>\n",
       "      <td>Full-size</td>\n",
       "      <td>1.6</td>\n",
       "      <td>4</td>\n",
       "      <td>Automated Manual</td>\n",
       "      <td>Regular Gasoline</td>\n",
       "      <td>4.3</td>\n",
       "      <td>4.1</td>\n",
       "      <td>4.2</td>\n",
       "      <td>67</td>\n",
       "      <td>99</td>\n",
       "      <td>9</td>\n",
       "      <td>7</td>\n",
       "    </tr>\n",
       "    <tr>\n",
       "      <th>458</th>\n",
       "      <td>2022</td>\n",
       "      <td>Hyundai</td>\n",
       "      <td>Elantra Hybrid Blue</td>\n",
       "      <td>Mid-size</td>\n",
       "      <td>1.6</td>\n",
       "      <td>4</td>\n",
       "      <td>Automated Manual</td>\n",
       "      <td>Regular Gasoline</td>\n",
       "      <td>4.5</td>\n",
       "      <td>4.2</td>\n",
       "      <td>4.4</td>\n",
       "      <td>64</td>\n",
       "      <td>103</td>\n",
       "      <td>9</td>\n",
       "      <td>7</td>\n",
       "    </tr>\n",
       "    <tr>\n",
       "      <th>885</th>\n",
       "      <td>2022</td>\n",
       "      <td>Toyota</td>\n",
       "      <td>Corolla Hybrid</td>\n",
       "      <td>Compact</td>\n",
       "      <td>1.8</td>\n",
       "      <td>4</td>\n",
       "      <td>Continuously Variable</td>\n",
       "      <td>Regular Gasoline</td>\n",
       "      <td>4.4</td>\n",
       "      <td>4.5</td>\n",
       "      <td>4.5</td>\n",
       "      <td>63</td>\n",
       "      <td>106</td>\n",
       "      <td>9</td>\n",
       "      <td>7</td>\n",
       "    </tr>\n",
       "    <tr>\n",
       "      <th>895</th>\n",
       "      <td>2022</td>\n",
       "      <td>Toyota</td>\n",
       "      <td>Prius</td>\n",
       "      <td>Mid-size</td>\n",
       "      <td>1.8</td>\n",
       "      <td>4</td>\n",
       "      <td>Continuously Variable</td>\n",
       "      <td>Regular Gasoline</td>\n",
       "      <td>4.4</td>\n",
       "      <td>4.7</td>\n",
       "      <td>4.5</td>\n",
       "      <td>63</td>\n",
       "      <td>106</td>\n",
       "      <td>9</td>\n",
       "      <td>7</td>\n",
       "    </tr>\n",
       "  </tbody>\n",
       "</table>\n",
       "</div>"
      ],
      "text/plain": [
       "     Model Year     Make                Model Vehicle Class  Engine Size(L)  \\\n",
       "460        2022  Hyundai           IONIQ Blue     Full-size             1.6   \n",
       "459        2022  Hyundai                IONIQ     Full-size             1.6   \n",
       "458        2022  Hyundai  Elantra Hybrid Blue      Mid-size             1.6   \n",
       "885        2022   Toyota       Corolla Hybrid       Compact             1.8   \n",
       "895        2022   Toyota                Prius      Mid-size             1.8   \n",
       "\n",
       "     Cylinders           Transmission         Fuel Type  \\\n",
       "460          4       Automated Manual  Regular Gasoline   \n",
       "459          4       Automated Manual  Regular Gasoline   \n",
       "458          4       Automated Manual  Regular Gasoline   \n",
       "885          4  Continuously Variable  Regular Gasoline   \n",
       "895          4  Continuously Variable  Regular Gasoline   \n",
       "\n",
       "     Fuel Consumption (City (L/100 km)  Fuel Consumption(Hwy (L/100 km))  \\\n",
       "460                                4.0                               3.9   \n",
       "459                                4.3                               4.1   \n",
       "458                                4.5                               4.2   \n",
       "885                                4.4                               4.5   \n",
       "895                                4.4                               4.7   \n",
       "\n",
       "     Fuel Consumption(Comb (L/100 km))  Fuel Consumption(Comb (mpg))  \\\n",
       "460                                4.0                            71   \n",
       "459                                4.2                            67   \n",
       "458                                4.4                            64   \n",
       "885                                4.5                            63   \n",
       "895                                4.5                            63   \n",
       "\n",
       "     CO2 Emissions(g/km)  CO2 Rating  Smog Rating  \n",
       "460                   94          10            7  \n",
       "459                   99           9            7  \n",
       "458                  103           9            7  \n",
       "885                  106           9            7  \n",
       "895                  106           9            7  "
      ]
     },
     "execution_count": 22,
     "metadata": {},
     "output_type": "execute_result"
    }
   ],
   "source": [
    "df[(df['Fuel Type']=='Regular Gasoline') & (df['CO2 Emissions(g/km)']<150) & (df['CO2 Rating'] >= 9)].sort_values(by='Fuel Consumption(Comb (mpg))', ascending=False).head(5)"
   ]
  },
  {
   "cell_type": "code",
   "execution_count": 23,
   "id": "9cd65826",
   "metadata": {},
   "outputs": [
    {
     "data": {
      "text/html": [
       "<div>\n",
       "<style scoped>\n",
       "    .dataframe tbody tr th:only-of-type {\n",
       "        vertical-align: middle;\n",
       "    }\n",
       "\n",
       "    .dataframe tbody tr th {\n",
       "        vertical-align: top;\n",
       "    }\n",
       "\n",
       "    .dataframe thead th {\n",
       "        text-align: right;\n",
       "    }\n",
       "</style>\n",
       "<table border=\"1\" class=\"dataframe\">\n",
       "  <thead>\n",
       "    <tr style=\"text-align: right;\">\n",
       "      <th></th>\n",
       "      <th>Model Year</th>\n",
       "      <th>Make</th>\n",
       "      <th>Model</th>\n",
       "      <th>Vehicle Class</th>\n",
       "      <th>Engine Size(L)</th>\n",
       "      <th>Cylinders</th>\n",
       "      <th>Transmission</th>\n",
       "      <th>Fuel Type</th>\n",
       "      <th>Fuel Consumption (City (L/100 km)</th>\n",
       "      <th>Fuel Consumption(Hwy (L/100 km))</th>\n",
       "      <th>Fuel Consumption(Comb (L/100 km))</th>\n",
       "      <th>Fuel Consumption(Comb (mpg))</th>\n",
       "      <th>CO2 Emissions(g/km)</th>\n",
       "      <th>CO2 Rating</th>\n",
       "      <th>Smog Rating</th>\n",
       "    </tr>\n",
       "  </thead>\n",
       "  <tbody>\n",
       "    <tr>\n",
       "      <th>583</th>\n",
       "      <td>2022</td>\n",
       "      <td>Lexus</td>\n",
       "      <td>ES 300h</td>\n",
       "      <td>Mid-size</td>\n",
       "      <td>2.5</td>\n",
       "      <td>4</td>\n",
       "      <td>Continuously Variable</td>\n",
       "      <td>Regular Gasoline</td>\n",
       "      <td>5.5</td>\n",
       "      <td>5.2</td>\n",
       "      <td>5.3</td>\n",
       "      <td>53</td>\n",
       "      <td>124</td>\n",
       "      <td>9</td>\n",
       "      <td>7</td>\n",
       "    </tr>\n",
       "    <tr>\n",
       "      <th>874</th>\n",
       "      <td>2022</td>\n",
       "      <td>Toyota</td>\n",
       "      <td>Camry Hybrid LE</td>\n",
       "      <td>Mid-size</td>\n",
       "      <td>2.5</td>\n",
       "      <td>4</td>\n",
       "      <td>Continuously Variable</td>\n",
       "      <td>Regular Gasoline</td>\n",
       "      <td>4.9</td>\n",
       "      <td>4.8</td>\n",
       "      <td>4.9</td>\n",
       "      <td>58</td>\n",
       "      <td>113</td>\n",
       "      <td>9</td>\n",
       "      <td>7</td>\n",
       "    </tr>\n",
       "    <tr>\n",
       "      <th>875</th>\n",
       "      <td>2022</td>\n",
       "      <td>Toyota</td>\n",
       "      <td>Camry Hybrid SE/XLE/XSE</td>\n",
       "      <td>Mid-size</td>\n",
       "      <td>2.5</td>\n",
       "      <td>4</td>\n",
       "      <td>Continuously Variable</td>\n",
       "      <td>Regular Gasoline</td>\n",
       "      <td>5.3</td>\n",
       "      <td>5.0</td>\n",
       "      <td>5.1</td>\n",
       "      <td>55</td>\n",
       "      <td>121</td>\n",
       "      <td>9</td>\n",
       "      <td>7</td>\n",
       "    </tr>\n",
       "    <tr>\n",
       "      <th>432</th>\n",
       "      <td>2022</td>\n",
       "      <td>Honda</td>\n",
       "      <td>Accord Hybrid</td>\n",
       "      <td>Full-size</td>\n",
       "      <td>2.0</td>\n",
       "      <td>4</td>\n",
       "      <td>Continuously Variable</td>\n",
       "      <td>Regular Gasoline</td>\n",
       "      <td>5.0</td>\n",
       "      <td>5.0</td>\n",
       "      <td>5.0</td>\n",
       "      <td>56</td>\n",
       "      <td>117</td>\n",
       "      <td>9</td>\n",
       "      <td>7</td>\n",
       "    </tr>\n",
       "    <tr>\n",
       "      <th>473</th>\n",
       "      <td>2022</td>\n",
       "      <td>Hyundai</td>\n",
       "      <td>Sonata Hybrid</td>\n",
       "      <td>Full-size</td>\n",
       "      <td>2.0</td>\n",
       "      <td>4</td>\n",
       "      <td>Automated Manual</td>\n",
       "      <td>Regular Gasoline</td>\n",
       "      <td>5.3</td>\n",
       "      <td>4.6</td>\n",
       "      <td>5.0</td>\n",
       "      <td>56</td>\n",
       "      <td>117</td>\n",
       "      <td>9</td>\n",
       "      <td>7</td>\n",
       "    </tr>\n",
       "  </tbody>\n",
       "</table>\n",
       "</div>"
      ],
      "text/plain": [
       "     Model Year     Make                    Model Vehicle Class  \\\n",
       "583        2022    Lexus                  ES 300h      Mid-size   \n",
       "874        2022   Toyota          Camry Hybrid LE      Mid-size   \n",
       "875        2022   Toyota  Camry Hybrid SE/XLE/XSE      Mid-size   \n",
       "432        2022    Honda            Accord Hybrid     Full-size   \n",
       "473        2022  Hyundai            Sonata Hybrid     Full-size   \n",
       "\n",
       "     Engine Size(L)  Cylinders           Transmission         Fuel Type  \\\n",
       "583             2.5          4  Continuously Variable  Regular Gasoline   \n",
       "874             2.5          4  Continuously Variable  Regular Gasoline   \n",
       "875             2.5          4  Continuously Variable  Regular Gasoline   \n",
       "432             2.0          4  Continuously Variable  Regular Gasoline   \n",
       "473             2.0          4       Automated Manual  Regular Gasoline   \n",
       "\n",
       "     Fuel Consumption (City (L/100 km)  Fuel Consumption(Hwy (L/100 km))  \\\n",
       "583                                5.5                               5.2   \n",
       "874                                4.9                               4.8   \n",
       "875                                5.3                               5.0   \n",
       "432                                5.0                               5.0   \n",
       "473                                5.3                               4.6   \n",
       "\n",
       "     Fuel Consumption(Comb (L/100 km))  Fuel Consumption(Comb (mpg))  \\\n",
       "583                                5.3                            53   \n",
       "874                                4.9                            58   \n",
       "875                                5.1                            55   \n",
       "432                                5.0                            56   \n",
       "473                                5.0                            56   \n",
       "\n",
       "     CO2 Emissions(g/km)  CO2 Rating  Smog Rating  \n",
       "583                  124           9            7  \n",
       "874                  113           9            7  \n",
       "875                  121           9            7  \n",
       "432                  117           9            7  \n",
       "473                  117           9            7  "
      ]
     },
     "execution_count": 23,
     "metadata": {},
     "output_type": "execute_result"
    }
   ],
   "source": [
    "df[(df['Fuel Type']=='Regular Gasoline') & (df['CO2 Emissions(g/km)']<150) & (df['CO2 Rating'] >= 9)].sort_values(by='Engine Size(L)', ascending=False).head(5)"
   ]
  },
  {
   "cell_type": "markdown",
   "id": "e46ff591",
   "metadata": {},
   "source": [
    "# Predictions - Discrete and Continuous"
   ]
  },
  {
   "cell_type": "markdown",
   "id": "50d7db96",
   "metadata": {},
   "source": [
    "Can I predict the CO2 rating from a few continuous and categorical dummy variables?"
   ]
  },
  {
   "cell_type": "code",
   "execution_count": 24,
   "id": "db5cab93",
   "metadata": {},
   "outputs": [
    {
     "data": {
      "text/html": [
       "<div>\n",
       "<style scoped>\n",
       "    .dataframe tbody tr th:only-of-type {\n",
       "        vertical-align: middle;\n",
       "    }\n",
       "\n",
       "    .dataframe tbody tr th {\n",
       "        vertical-align: top;\n",
       "    }\n",
       "\n",
       "    .dataframe thead th {\n",
       "        text-align: right;\n",
       "    }\n",
       "</style>\n",
       "<table border=\"1\" class=\"dataframe\">\n",
       "  <thead>\n",
       "    <tr style=\"text-align: right;\">\n",
       "      <th></th>\n",
       "      <th>Cylinders_10</th>\n",
       "      <th>Cylinders_12</th>\n",
       "      <th>Cylinders_16</th>\n",
       "      <th>Cylinders_3</th>\n",
       "      <th>Cylinders_4</th>\n",
       "      <th>Cylinders_5</th>\n",
       "      <th>Cylinders_6</th>\n",
       "      <th>Cylinders_8</th>\n",
       "      <th>Transmission_Automated</th>\n",
       "      <th>Transmission_Automated Manual</th>\n",
       "      <th>Transmission_Automated w/ Select Shift</th>\n",
       "      <th>Transmission_Continuously Variable</th>\n",
       "      <th>Transmission_Manual</th>\n",
       "      <th>Fuel Type_Diesel</th>\n",
       "      <th>Fuel Type_E85 Flex Fuel</th>\n",
       "      <th>Fuel Type_Premium Gasoline</th>\n",
       "      <th>Fuel Type_Regular Gasoline</th>\n",
       "    </tr>\n",
       "  </thead>\n",
       "  <tbody>\n",
       "    <tr>\n",
       "      <th>0</th>\n",
       "      <td>0</td>\n",
       "      <td>0</td>\n",
       "      <td>0</td>\n",
       "      <td>0</td>\n",
       "      <td>1</td>\n",
       "      <td>0</td>\n",
       "      <td>0</td>\n",
       "      <td>0</td>\n",
       "      <td>0</td>\n",
       "      <td>1</td>\n",
       "      <td>0</td>\n",
       "      <td>0</td>\n",
       "      <td>0</td>\n",
       "      <td>0</td>\n",
       "      <td>0</td>\n",
       "      <td>1</td>\n",
       "      <td>0</td>\n",
       "    </tr>\n",
       "    <tr>\n",
       "      <th>1</th>\n",
       "      <td>0</td>\n",
       "      <td>0</td>\n",
       "      <td>0</td>\n",
       "      <td>0</td>\n",
       "      <td>0</td>\n",
       "      <td>0</td>\n",
       "      <td>1</td>\n",
       "      <td>0</td>\n",
       "      <td>0</td>\n",
       "      <td>0</td>\n",
       "      <td>1</td>\n",
       "      <td>0</td>\n",
       "      <td>0</td>\n",
       "      <td>0</td>\n",
       "      <td>0</td>\n",
       "      <td>1</td>\n",
       "      <td>0</td>\n",
       "    </tr>\n",
       "    <tr>\n",
       "      <th>2</th>\n",
       "      <td>0</td>\n",
       "      <td>0</td>\n",
       "      <td>0</td>\n",
       "      <td>0</td>\n",
       "      <td>1</td>\n",
       "      <td>0</td>\n",
       "      <td>0</td>\n",
       "      <td>0</td>\n",
       "      <td>0</td>\n",
       "      <td>0</td>\n",
       "      <td>1</td>\n",
       "      <td>0</td>\n",
       "      <td>0</td>\n",
       "      <td>0</td>\n",
       "      <td>0</td>\n",
       "      <td>1</td>\n",
       "      <td>0</td>\n",
       "    </tr>\n",
       "    <tr>\n",
       "      <th>3</th>\n",
       "      <td>0</td>\n",
       "      <td>0</td>\n",
       "      <td>0</td>\n",
       "      <td>0</td>\n",
       "      <td>1</td>\n",
       "      <td>0</td>\n",
       "      <td>0</td>\n",
       "      <td>0</td>\n",
       "      <td>0</td>\n",
       "      <td>0</td>\n",
       "      <td>1</td>\n",
       "      <td>0</td>\n",
       "      <td>0</td>\n",
       "      <td>0</td>\n",
       "      <td>0</td>\n",
       "      <td>1</td>\n",
       "      <td>0</td>\n",
       "    </tr>\n",
       "    <tr>\n",
       "      <th>4</th>\n",
       "      <td>0</td>\n",
       "      <td>0</td>\n",
       "      <td>0</td>\n",
       "      <td>0</td>\n",
       "      <td>1</td>\n",
       "      <td>0</td>\n",
       "      <td>0</td>\n",
       "      <td>0</td>\n",
       "      <td>0</td>\n",
       "      <td>0</td>\n",
       "      <td>1</td>\n",
       "      <td>0</td>\n",
       "      <td>0</td>\n",
       "      <td>0</td>\n",
       "      <td>0</td>\n",
       "      <td>1</td>\n",
       "      <td>0</td>\n",
       "    </tr>\n",
       "  </tbody>\n",
       "</table>\n",
       "</div>"
      ],
      "text/plain": [
       "   Cylinders_10  Cylinders_12  Cylinders_16  Cylinders_3  Cylinders_4  \\\n",
       "0             0             0             0            0            1   \n",
       "1             0             0             0            0            0   \n",
       "2             0             0             0            0            1   \n",
       "3             0             0             0            0            1   \n",
       "4             0             0             0            0            1   \n",
       "\n",
       "   Cylinders_5  Cylinders_6  Cylinders_8  Transmission_Automated  \\\n",
       "0            0            0            0                       0   \n",
       "1            0            1            0                       0   \n",
       "2            0            0            0                       0   \n",
       "3            0            0            0                       0   \n",
       "4            0            0            0                       0   \n",
       "\n",
       "   Transmission_Automated Manual  Transmission_Automated w/ Select Shift  \\\n",
       "0                              1                                       0   \n",
       "1                              0                                       1   \n",
       "2                              0                                       1   \n",
       "3                              0                                       1   \n",
       "4                              0                                       1   \n",
       "\n",
       "   Transmission_Continuously Variable  Transmission_Manual  Fuel Type_Diesel  \\\n",
       "0                                   0                    0                 0   \n",
       "1                                   0                    0                 0   \n",
       "2                                   0                    0                 0   \n",
       "3                                   0                    0                 0   \n",
       "4                                   0                    0                 0   \n",
       "\n",
       "   Fuel Type_E85 Flex Fuel  Fuel Type_Premium Gasoline  \\\n",
       "0                        0                           1   \n",
       "1                        0                           1   \n",
       "2                        0                           1   \n",
       "3                        0                           1   \n",
       "4                        0                           1   \n",
       "\n",
       "   Fuel Type_Regular Gasoline  \n",
       "0                           0  \n",
       "1                           0  \n",
       "2                           0  \n",
       "3                           0  \n",
       "4                           0  "
      ]
     },
     "execution_count": 24,
     "metadata": {},
     "output_type": "execute_result"
    }
   ],
   "source": [
    "df['Cylinders'] = df['Cylinders'].astype('str')\n",
    "dummies = pd.get_dummies(df[['Cylinders','Transmission','Fuel Type']])\n",
    "dummies.head()"
   ]
  },
  {
   "cell_type": "code",
   "execution_count": 25,
   "id": "5bc4d1f2",
   "metadata": {},
   "outputs": [],
   "source": [
    "X = pd.concat([df[['Fuel Consumption(Hwy (L/100 km))','Fuel Consumption(Comb (L/100 km))','Fuel Consumption(Comb (mpg))','CO2 Emissions(g/km)']],dummies],axis=1)\n",
    "y = df['CO2 Rating']"
   ]
  },
  {
   "cell_type": "code",
   "execution_count": 26,
   "id": "60b6c3be",
   "metadata": {},
   "outputs": [],
   "source": [
    "from sklearn.model_selection import train_test_split"
   ]
  },
  {
   "cell_type": "code",
   "execution_count": 27,
   "id": "e0b8015a",
   "metadata": {},
   "outputs": [],
   "source": [
    "X_train, X_test, y_train, y_test = train_test_split(X, y, test_size=0.2)"
   ]
  },
  {
   "cell_type": "code",
   "execution_count": 28,
   "id": "dbfba1ad",
   "metadata": {},
   "outputs": [],
   "source": [
    "from sklearn.model_selection import RandomizedSearchCV\n",
    "from sklearn.ensemble import RandomForestClassifier"
   ]
  },
  {
   "cell_type": "markdown",
   "id": "3939bc07",
   "metadata": {},
   "source": [
    "In this case I looked at the documentation on scikit-learn for different parameters to tune. \n",
    "I have read that CV=10 indicated 10 k-folds which is good for cross validation.\n",
    "I have also read that RandomizedSearchCV is a good option compared to GridSearchCV, but either should be employed."
   ]
  },
  {
   "cell_type": "code",
   "execution_count": 29,
   "id": "d27b50c7",
   "metadata": {},
   "outputs": [],
   "source": [
    "rand_co2 = RandomizedSearchCV(RandomForestClassifier(), param_distributions={'n_estimators':[1,10,25,50,100,250,500],\n",
    "                              'criterion':['gini','entropy'],'max_features':['auto','sqrt','log2'],'bootstrap':[True,False]},\n",
    "                          cv=10,n_jobs=-1,n_iter=60,scoring='accuracy')\n",
    "                  "
   ]
  },
  {
   "cell_type": "code",
   "execution_count": 30,
   "id": "296b3d3f",
   "metadata": {},
   "outputs": [],
   "source": [
    "from sklearn.preprocessing import StandardScaler,MinMaxScaler\n",
    "scale = StandardScaler()\n",
    "X_train = scale.fit_transform(X_train)\n",
    "X_test = scale.transform(X_test)"
   ]
  },
  {
   "cell_type": "code",
   "execution_count": 31,
   "id": "a8f4e8b6",
   "metadata": {},
   "outputs": [
    {
     "name": "stderr",
     "output_type": "stream",
     "text": [
      "C:\\Users\\rripa\\anaconda3\\lib\\site-packages\\sklearn\\model_selection\\_split.py:666: UserWarning: The least populated class in y has only 1 members, which is less than n_splits=10.\n",
      "  warnings.warn((\"The least populated class in y has only %d\"\n"
     ]
    },
    {
     "data": {
      "text/plain": [
       "RandomizedSearchCV(cv=10, estimator=RandomForestClassifier(), n_iter=60,\n",
       "                   n_jobs=-1,\n",
       "                   param_distributions={'bootstrap': [True, False],\n",
       "                                        'criterion': ['gini', 'entropy'],\n",
       "                                        'max_features': ['auto', 'sqrt',\n",
       "                                                         'log2'],\n",
       "                                        'n_estimators': [1, 10, 25, 50, 100,\n",
       "                                                         250, 500]},\n",
       "                   scoring='accuracy')"
      ]
     },
     "execution_count": 31,
     "metadata": {},
     "output_type": "execute_result"
    }
   ],
   "source": [
    "rand_co2.fit(X_train,y_train)"
   ]
  },
  {
   "cell_type": "code",
   "execution_count": 32,
   "id": "5660a046",
   "metadata": {},
   "outputs": [],
   "source": [
    "pred_co2 = rand_co2.predict(X_test)"
   ]
  },
  {
   "cell_type": "code",
   "execution_count": 33,
   "id": "6b67b6f1",
   "metadata": {},
   "outputs": [
    {
     "data": {
      "text/plain": [
       "{'n_estimators': 50,\n",
       " 'max_features': 'sqrt',\n",
       " 'criterion': 'entropy',\n",
       " 'bootstrap': False}"
      ]
     },
     "execution_count": 33,
     "metadata": {},
     "output_type": "execute_result"
    }
   ],
   "source": [
    "rand_co2.best_params_"
   ]
  },
  {
   "cell_type": "code",
   "execution_count": 34,
   "id": "791e95a2",
   "metadata": {},
   "outputs": [
    {
     "name": "stdout",
     "output_type": "stream",
     "text": [
      "              precision    recall  f1-score   support\n",
      "\n",
      "           1       1.00      1.00      1.00         1\n",
      "           2       1.00      1.00      1.00         9\n",
      "           3       1.00      1.00      1.00        39\n",
      "           4       1.00      1.00      1.00        53\n",
      "           5       1.00      1.00      1.00        53\n",
      "           6       1.00      1.00      1.00        18\n",
      "           7       0.93      1.00      0.97        14\n",
      "           8       1.00      0.50      0.67         2\n",
      "           9       1.00      1.00      1.00         1\n",
      "\n",
      "    accuracy                           0.99       190\n",
      "   macro avg       0.99      0.94      0.96       190\n",
      "weighted avg       1.00      0.99      0.99       190\n",
      "\n"
     ]
    }
   ],
   "source": [
    "from sklearn.metrics import classification_report,confusion_matrix\n",
    "print(classification_report(y_test,pred_co2))"
   ]
  },
  {
   "cell_type": "code",
   "execution_count": 35,
   "id": "f82efe0e",
   "metadata": {},
   "outputs": [
    {
     "name": "stdout",
     "output_type": "stream",
     "text": [
      "[[ 1  0  0  0  0  0  0  0  0]\n",
      " [ 0  9  0  0  0  0  0  0  0]\n",
      " [ 0  0 39  0  0  0  0  0  0]\n",
      " [ 0  0  0 53  0  0  0  0  0]\n",
      " [ 0  0  0  0 53  0  0  0  0]\n",
      " [ 0  0  0  0  0 18  0  0  0]\n",
      " [ 0  0  0  0  0  0 14  0  0]\n",
      " [ 0  0  0  0  0  0  1  1  0]\n",
      " [ 0  0  0  0  0  0  0  0  1]]\n"
     ]
    }
   ],
   "source": [
    "print(confusion_matrix(y_test,pred_co2))"
   ]
  },
  {
   "cell_type": "markdown",
   "id": "335f437e",
   "metadata": {},
   "source": [
    "Our model appears to be  rather effective in predicting the CO2 rating of 2022 cars. To make a better model, we'd likely need data from previous years as certain ratings have only one rating."
   ]
  },
  {
   "cell_type": "code",
   "execution_count": 36,
   "id": "b345fd99",
   "metadata": {},
   "outputs": [
    {
     "data": {
      "text/plain": [
       "array([1.09949765e-01, 2.56659105e-01, 2.06880421e-01, 3.11387834e-01,\n",
       "       5.44374516e-04, 4.93222800e-03, 1.07534266e-03, 2.18092459e-03,\n",
       "       2.45433821e-02, 4.26002435e-06, 1.06409788e-02, 1.91765135e-02,\n",
       "       3.60627666e-03, 2.89414643e-03, 4.34342437e-03, 1.18455235e-02,\n",
       "       1.10473810e-03, 9.16166591e-03, 3.39182710e-03, 7.45396039e-03,\n",
       "       8.22330816e-03])"
      ]
     },
     "execution_count": 36,
     "metadata": {},
     "output_type": "execute_result"
    }
   ],
   "source": [
    "importances = rand_co2.best_estimator_.feature_importances_\n",
    "importances"
   ]
  },
  {
   "cell_type": "code",
   "execution_count": 37,
   "id": "00b164ad",
   "metadata": {},
   "outputs": [],
   "source": [
    "df_import = pd.DataFrame(zip(X.columns,importances))\n",
    "df_import.columns = ['Feature','Importance']\n",
    "df_import = df_import.sort_values(by='Importance',ascending=False)"
   ]
  },
  {
   "cell_type": "code",
   "execution_count": 38,
   "id": "dea3bbdb",
   "metadata": {},
   "outputs": [
    {
     "data": {
      "image/png": "[encoded data removed]",
      "text/plain": [
       "<Figure size 1080x648 with 1 Axes>"
      ]
     },
     "metadata": {
      "needs_background": "light"
     },
     "output_type": "display_data"
    }
   ],
   "source": [
    "plt.figure(figsize=(15,9))\n",
    "sns.barplot(data=df_import, x='Feature',y='Importance', palette='coolwarm')\n",
    "plt.xticks(rotation=90)\n",
    "plt.tight_layout()"
   ]
  },
  {
   "cell_type": "markdown",
   "id": "540cd419",
   "metadata": {},
   "source": [
    "It looks like cylinders and fuel type really don't matter in this case of our model. I'd bet our model can be explained with the 4 continuous variables. "
   ]
  },
  {
   "cell_type": "markdown",
   "id": "4b86e363",
   "metadata": {},
   "source": [
    "What about smog rating?"
   ]
  },
  {
   "cell_type": "code",
   "execution_count": 39,
   "id": "47fce2f7",
   "metadata": {},
   "outputs": [],
   "source": [
    "X = pd.concat([df[['Fuel Consumption(Hwy (L/100 km))','Fuel Consumption(Comb (L/100 km))','Fuel Consumption(Comb (mpg))','CO2 Emissions(g/km)']],dummies],axis=1)\n",
    "y = df['Smog Rating']"
   ]
  },
  {
   "cell_type": "code",
   "execution_count": 40,
   "id": "0e043cd6",
   "metadata": {},
   "outputs": [],
   "source": [
    "X_train, X_test, y_train, y_test = train_test_split(X, y, test_size=0.2)\n",
    "scale_smog = StandardScaler()\n",
    "X_train = scale_smog.fit_transform(X_train)\n",
    "X_test = scale_smog.transform(X_test)"
   ]
  },
  {
   "cell_type": "code",
   "execution_count": 41,
   "id": "702fd922",
   "metadata": {},
   "outputs": [],
   "source": [
    "rand_smog = RandomizedSearchCV(RandomForestClassifier(), param_distributions={'n_estimators':[1,10,25,50,100,250,500],\n",
    "                              'criterion':['gini','entropy'],'max_features':['auto','sqrt','log2'],'bootstrap':[True,False]},\n",
    "                          cv=10,n_jobs=-1,n_iter=60,scoring='accuracy')\n",
    "                  "
   ]
  },
  {
   "cell_type": "code",
   "execution_count": 42,
   "id": "f276b469",
   "metadata": {},
   "outputs": [
    {
     "data": {
      "text/plain": [
       "RandomizedSearchCV(cv=10, estimator=RandomForestClassifier(), n_iter=60,\n",
       "                   n_jobs=-1,\n",
       "                   param_distributions={'bootstrap': [True, False],\n",
       "                                        'criterion': ['gini', 'entropy'],\n",
       "                                        'max_features': ['auto', 'sqrt',\n",
       "                                                         'log2'],\n",
       "                                        'n_estimators': [1, 10, 25, 50, 100,\n",
       "                                                         250, 500]},\n",
       "                   scoring='accuracy')"
      ]
     },
     "execution_count": 42,
     "metadata": {},
     "output_type": "execute_result"
    }
   ],
   "source": [
    "rand_smog.fit(X_train,y_train)"
   ]
  },
  {
   "cell_type": "code",
   "execution_count": 43,
   "id": "02166153",
   "metadata": {},
   "outputs": [],
   "source": [
    "pred_smog = rand_smog.predict(X_test)"
   ]
  },
  {
   "cell_type": "code",
   "execution_count": 44,
   "id": "798226c6",
   "metadata": {},
   "outputs": [
    {
     "data": {
      "text/plain": [
       "{'n_estimators': 25,\n",
       " 'max_features': 'log2',\n",
       " 'criterion': 'entropy',\n",
       " 'bootstrap': True}"
      ]
     },
     "execution_count": 44,
     "metadata": {},
     "output_type": "execute_result"
    }
   ],
   "source": [
    "rand_smog.best_params_"
   ]
  },
  {
   "cell_type": "code",
   "execution_count": 45,
   "id": "0c7eab20",
   "metadata": {},
   "outputs": [
    {
     "name": "stdout",
     "output_type": "stream",
     "text": [
      "              precision    recall  f1-score   support\n",
      "\n",
      "           1       0.73      0.73      0.73        11\n",
      "           3       0.69      0.71      0.70        38\n",
      "           5       0.73      0.69      0.71        58\n",
      "           6       0.80      0.73      0.77        45\n",
      "           7       0.55      0.63      0.59        38\n",
      "\n",
      "    accuracy                           0.69       190\n",
      "   macro avg       0.70      0.70      0.70       190\n",
      "weighted avg       0.70      0.69      0.70       190\n",
      "\n"
     ]
    }
   ],
   "source": [
    "print(classification_report(y_test,pred_smog))"
   ]
  },
  {
   "cell_type": "code",
   "execution_count": 46,
   "id": "5dc553a3",
   "metadata": {},
   "outputs": [
    {
     "name": "stdout",
     "output_type": "stream",
     "text": [
      "[[ 8  3  0  0  0]\n",
      " [ 3 27  2  1  5]\n",
      " [ 0  6 40  2 10]\n",
      " [ 0  1  6 33  5]\n",
      " [ 0  2  7  5 24]]\n"
     ]
    }
   ],
   "source": [
    "print(confusion_matrix(y_test,pred_smog))"
   ]
  },
  {
   "cell_type": "code",
   "execution_count": 47,
   "id": "481974c4",
   "metadata": {},
   "outputs": [
    {
     "data": {
      "text/plain": [
       "array([0.18523781, 0.15702341, 0.13483922, 0.19085202, 0.00471991,\n",
       "       0.00231561, 0.00043451, 0.00583751, 0.02633057, 0.00029955,\n",
       "       0.03195367, 0.01586467, 0.05167222, 0.02925328, 0.03820345,\n",
       "       0.0104973 , 0.0209292 , 0.01399205, 0.00193475, 0.03188263,\n",
       "       0.04592666])"
      ]
     },
     "execution_count": 47,
     "metadata": {},
     "output_type": "execute_result"
    }
   ],
   "source": [
    "importances = rand_smog.best_estimator_.feature_importances_\n",
    "importances"
   ]
  },
  {
   "cell_type": "code",
   "execution_count": 48,
   "id": "33c91026",
   "metadata": {},
   "outputs": [],
   "source": [
    "df_import = pd.DataFrame(zip(X.columns,importances))\n",
    "df_import.columns = ['Feature','Importance']\n",
    "df_import = df_import.sort_values(by='Importance',ascending=False)"
   ]
  },
  {
   "cell_type": "code",
   "execution_count": 49,
   "id": "a8bdeae6",
   "metadata": {},
   "outputs": [
    {
     "data": {
      "text/plain": [
       "(array([ 0,  1,  2,  3,  4,  5,  6,  7,  8,  9, 10, 11, 12, 13, 14, 15, 16,\n",
       "        17, 18, 19, 20]),\n",
       " [Text(0, 0, 'CO2 Emissions(g/km)'),\n",
       "  Text(1, 0, 'Fuel Consumption(Hwy (L/100 km))'),\n",
       "  Text(2, 0, 'Fuel Consumption(Comb (L/100 km))'),\n",
       "  Text(3, 0, 'Fuel Consumption(Comb (mpg))'),\n",
       "  Text(4, 0, 'Transmission_Automated'),\n",
       "  Text(5, 0, 'Fuel Type_Regular Gasoline'),\n",
       "  Text(6, 0, 'Transmission_Automated w/ Select Shift'),\n",
       "  Text(7, 0, 'Cylinders_6'),\n",
       "  Text(8, 0, 'Fuel Type_Premium Gasoline'),\n",
       "  Text(9, 0, 'Transmission_Automated Manual'),\n",
       "  Text(10, 0, 'Cylinders_4'),\n",
       "  Text(11, 0, 'Transmission_Manual'),\n",
       "  Text(12, 0, 'Cylinders_8'),\n",
       "  Text(13, 0, 'Fuel Type_Diesel'),\n",
       "  Text(14, 0, 'Transmission_Continuously Variable'),\n",
       "  Text(15, 0, 'Cylinders_3'),\n",
       "  Text(16, 0, 'Cylinders_10'),\n",
       "  Text(17, 0, 'Cylinders_12'),\n",
       "  Text(18, 0, 'Fuel Type_E85 Flex Fuel'),\n",
       "  Text(19, 0, 'Cylinders_16'),\n",
       "  Text(20, 0, 'Cylinders_5')])"
      ]
     },
     "execution_count": 49,
     "metadata": {},
     "output_type": "execute_result"
    },
    {
     "data": {
      "image/png": "[encoded data removed]",
      "text/plain": [
       "<Figure size 1440x864 with 1 Axes>"
      ]
     },
     "metadata": {
      "needs_background": "light"
     },
     "output_type": "display_data"
    }
   ],
   "source": [
    "plt.figure(figsize=(20,12))\n",
    "sns.barplot(data=df_import, x='Feature',y='Importance', palette='coolwarm')\n",
    "plt.xticks(rotation=90)"
   ]
  },
  {
   "cell_type": "markdown",
   "id": "0af5d558",
   "metadata": {},
   "source": [
    "Random Forest didn't provide nearly as good of a model compared to the CO2 testing. Perhaps I can try Logistic Regression for a far simpler model?"
   ]
  },
  {
   "cell_type": "code",
   "execution_count": 50,
   "id": "3ee0a815",
   "metadata": {},
   "outputs": [],
   "source": [
    "from sklearn.linear_model import LogisticRegression\n",
    "lr = RandomizedSearchCV(LogisticRegression(multi_class = 'multinomial',max_iter=1000), \n",
    "                        param_distributions = {'penalty':['l1','l2','elasticnet','none'],\n",
    "                                              'dual':[True,False],\n",
    "                                              'C':[0.01,0.1,1,5,10,25,50, 100,250, 500, 1000],\n",
    "                                              'solver':['newton-cg','sag','saga','lbfgs'],\n",
    "                                              },\n",
    "                                            \n",
    "                       cv=10, n_jobs=-1, n_iter = 100, scoring='accuracy')"
   ]
  },
  {
   "cell_type": "code",
   "execution_count": 51,
   "id": "100d8f64",
   "metadata": {},
   "outputs": [],
   "source": [
    "X = pd.concat([df[['Fuel Consumption(Hwy (L/100 km))','Fuel Consumption(Comb (L/100 km))','Fuel Consumption(Comb (mpg))','CO2 Emissions(g/km)']],dummies],axis=1)\n",
    "y = df['Smog Rating']\n",
    "\n",
    "X_train, X_test, y_train, y_test = train_test_split(X, y, test_size=0.2)\n",
    "\n",
    "lr_scale = StandardScaler()\n",
    "X_train = lr_scale.fit_transform(X_train)\n",
    "X_test = lr_scale.transform(X_test)"
   ]
  },
  {
   "cell_type": "code",
   "execution_count": 52,
   "id": "3ab708b8",
   "metadata": {},
   "outputs": [
    {
     "name": "stderr",
     "output_type": "stream",
     "text": [
      "C:\\Users\\rripa\\anaconda3\\lib\\site-packages\\sklearn\\model_selection\\_search.py:922: UserWarning: One or more of the test scores are non-finite: [       nan 0.58747368 0.63647368        nan        nan        nan\n",
      " 0.5914386         nan 0.62849123        nan        nan        nan\n",
      "        nan        nan        nan        nan        nan 0.62849123\n",
      "        nan        nan 0.63382456 0.62715789        nan        nan\n",
      "        nan        nan        nan        nan 0.62715789 0.63645614\n",
      "        nan        nan 0.63382456        nan 0.62715789 0.63382456\n",
      " 0.63645614        nan        nan        nan        nan        nan\n",
      "        nan        nan        nan 0.40473684        nan        nan\n",
      " 0.63382456        nan 0.62715789        nan        nan 0.62715789\n",
      " 0.58747368        nan        nan 0.62982456 0.62715789        nan\n",
      " 0.58217544        nan 0.63645614 0.62322807        nan        nan\n",
      "        nan        nan        nan        nan        nan        nan\n",
      " 0.63645614        nan        nan        nan        nan        nan\n",
      " 0.63382456 0.63645614        nan 0.63382456        nan        nan\n",
      "        nan        nan 0.62715789 0.63645614        nan        nan\n",
      "        nan        nan        nan        nan        nan        nan\n",
      "        nan        nan        nan        nan]\n",
      "  warnings.warn(\n",
      "C:\\Users\\rripa\\anaconda3\\lib\\site-packages\\sklearn\\linear_model\\_sag.py:328: ConvergenceWarning: The max_iter was reached which means the coef_ did not converge\n",
      "  warnings.warn(\"The max_iter was reached which means \"\n"
     ]
    },
    {
     "data": {
      "text/plain": [
       "RandomizedSearchCV(cv=10,\n",
       "                   estimator=LogisticRegression(max_iter=1000,\n",
       "                                                multi_class='multinomial'),\n",
       "                   n_iter=100, n_jobs=-1,\n",
       "                   param_distributions={'C': [0.01, 0.1, 1, 5, 10, 25, 50, 100,\n",
       "                                              250, 500, 1000],\n",
       "                                        'dual': [True, False],\n",
       "                                        'penalty': ['l1', 'l2', 'elasticnet',\n",
       "                                                    'none'],\n",
       "                                        'solver': ['newton-cg', 'sag', 'saga',\n",
       "                                                   'lbfgs']},\n",
       "                   scoring='accuracy')"
      ]
     },
     "execution_count": 52,
     "metadata": {},
     "output_type": "execute_result"
    }
   ],
   "source": [
    "lr.fit(X_train,y_train)"
   ]
  },
  {
   "cell_type": "code",
   "execution_count": 53,
   "id": "ecc324c4",
   "metadata": {},
   "outputs": [],
   "source": [
    "pred_lr_smog = lr.predict(X_test)"
   ]
  },
  {
   "cell_type": "code",
   "execution_count": 54,
   "id": "0ffeecb8",
   "metadata": {},
   "outputs": [
    {
     "name": "stdout",
     "output_type": "stream",
     "text": [
      "              precision    recall  f1-score   support\n",
      "\n",
      "           1       0.78      0.70      0.74        10\n",
      "           3       0.67      0.49      0.56        41\n",
      "           5       0.63      0.75      0.69        61\n",
      "           6       0.59      0.43      0.50        44\n",
      "           7       0.57      0.76      0.65        34\n",
      "\n",
      "    accuracy                           0.62       190\n",
      "   macro avg       0.65      0.63      0.63       190\n",
      "weighted avg       0.63      0.62      0.61       190\n",
      "\n"
     ]
    }
   ],
   "source": [
    "print(classification_report(y_test,pred_lr_smog))"
   ]
  },
  {
   "cell_type": "markdown",
   "id": "1a5dec2e",
   "metadata": {
    "scrolled": true
   },
   "source": [
    "One last time...going to try something more powerful like neural networks."
   ]
  },
  {
   "cell_type": "code",
   "execution_count": 55,
   "id": "3dc4bc48",
   "metadata": {},
   "outputs": [],
   "source": [
    "from tensorflow.keras.models import Sequential\n",
    "from tensorflow.keras.layers import Dense, Dropout\n",
    "from tensorflow.keras.callbacks import EarlyStopping"
   ]
  },
  {
   "cell_type": "code",
   "execution_count": 56,
   "id": "badcc381",
   "metadata": {},
   "outputs": [],
   "source": [
    "X_train, X_test, y_train, y_test = train_test_split(X, y, test_size=0.2)\n",
    "scale_smog = StandardScaler()\n",
    "X_train = scale_smog.fit_transform(X_train)\n",
    "X_test = scale_smog.transform(X_test)"
   ]
  },
  {
   "cell_type": "code",
   "execution_count": 57,
   "id": "f3cb3273",
   "metadata": {},
   "outputs": [
    {
     "name": "stdout",
     "output_type": "stream",
     "text": [
      "Epoch 1/600\n",
      "24/24 [==============================] - 1s 12ms/step - loss: 2.2688 - val_loss: 2.1965\n",
      "Epoch 2/600\n",
      "24/24 [==============================] - 0s 4ms/step - loss: 2.1475 - val_loss: 2.0633\n",
      "Epoch 3/600\n",
      "24/24 [==============================] - 0s 3ms/step - loss: 1.9930 - val_loss: 1.8739\n",
      "Epoch 4/600\n",
      "24/24 [==============================] - 0s 4ms/step - loss: 1.8451 - val_loss: 1.6855\n",
      "Epoch 5/600\n",
      "24/24 [==============================] - 0s 4ms/step - loss: 1.7325 - val_loss: 1.5397\n",
      "Epoch 6/600\n",
      "24/24 [==============================] - 0s 4ms/step - loss: 1.6092 - val_loss: 1.4424\n",
      "Epoch 7/600\n",
      "24/24 [==============================] - 0s 4ms/step - loss: 1.5527 - val_loss: 1.3976\n",
      "Epoch 8/600\n",
      "24/24 [==============================] - 0s 5ms/step - loss: 1.4853 - val_loss: 1.3534\n",
      "Epoch 9/600\n",
      "24/24 [==============================] - 0s 4ms/step - loss: 1.4963 - val_loss: 1.3288\n",
      "Epoch 10/600\n",
      "24/24 [==============================] - 0s 4ms/step - loss: 1.4355 - val_loss: 1.2984\n",
      "Epoch 11/600\n",
      "24/24 [==============================] - 0s 5ms/step - loss: 1.4424 - val_loss: 1.2746\n",
      "Epoch 12/600\n",
      "24/24 [==============================] - 0s 4ms/step - loss: 1.4191 - val_loss: 1.2449\n",
      "Epoch 13/600\n",
      "24/24 [==============================] - 0s 4ms/step - loss: 1.3788 - val_loss: 1.2322\n",
      "Epoch 14/600\n",
      "24/24 [==============================] - 0s 3ms/step - loss: 1.3918 - val_loss: 1.2214\n",
      "Epoch 15/600\n",
      "24/24 [==============================] - 0s 4ms/step - loss: 1.3267 - val_loss: 1.2074\n",
      "Epoch 16/600\n",
      "24/24 [==============================] - 0s 3ms/step - loss: 1.3279 - val_loss: 1.1960\n",
      "Epoch 17/600\n",
      "24/24 [==============================] - 0s 4ms/step - loss: 1.3173 - val_loss: 1.1861\n",
      "Epoch 18/600\n",
      "24/24 [==============================] - 0s 4ms/step - loss: 1.2914 - val_loss: 1.1730\n",
      "Epoch 19/600\n",
      "24/24 [==============================] - 0s 5ms/step - loss: 1.2905 - val_loss: 1.1549\n",
      "Epoch 20/600\n",
      "24/24 [==============================] - 0s 4ms/step - loss: 1.2686 - val_loss: 1.1435\n",
      "Epoch 21/600\n",
      "24/24 [==============================] - 0s 4ms/step - loss: 1.2622 - val_loss: 1.1418\n",
      "Epoch 22/600\n",
      "24/24 [==============================] - 0s 4ms/step - loss: 1.2456 - val_loss: 1.1219\n",
      "Epoch 23/600\n",
      "24/24 [==============================] - 0s 4ms/step - loss: 1.2734 - val_loss: 1.1180\n",
      "Epoch 24/600\n",
      "24/24 [==============================] - 0s 4ms/step - loss: 1.2422 - val_loss: 1.1117\n",
      "Epoch 25/600\n",
      "24/24 [==============================] - 0s 4ms/step - loss: 1.1871 - val_loss: 1.1054\n",
      "Epoch 26/600\n",
      "24/24 [==============================] - 0s 4ms/step - loss: 1.2013 - val_loss: 1.0994\n",
      "Epoch 27/600\n",
      "24/24 [==============================] - 0s 5ms/step - loss: 1.2377 - val_loss: 1.0934\n",
      "Epoch 28/600\n",
      "24/24 [==============================] - 0s 4ms/step - loss: 1.1811 - val_loss: 1.0921\n",
      "Epoch 29/600\n",
      "24/24 [==============================] - 0s 5ms/step - loss: 1.1936 - val_loss: 1.0830\n",
      "Epoch 30/600\n",
      "24/24 [==============================] - 0s 5ms/step - loss: 1.1843 - val_loss: 1.0803\n",
      "Epoch 31/600\n",
      "24/24 [==============================] - 0s 5ms/step - loss: 1.1728 - val_loss: 1.0773\n",
      "Epoch 32/600\n",
      "24/24 [==============================] - 0s 6ms/step - loss: 1.1487 - val_loss: 1.0669\n",
      "Epoch 33/600\n",
      "24/24 [==============================] - 0s 5ms/step - loss: 1.1854 - val_loss: 1.0783\n",
      "Epoch 34/600\n",
      "24/24 [==============================] - 0s 5ms/step - loss: 1.1755 - val_loss: 1.0697\n",
      "Epoch 35/600\n",
      "24/24 [==============================] - 0s 4ms/step - loss: 1.1634 - val_loss: 1.0660\n",
      "Epoch 36/600\n",
      "24/24 [==============================] - 0s 5ms/step - loss: 1.1434 - val_loss: 1.0676\n",
      "Epoch 37/600\n",
      "24/24 [==============================] - 0s 5ms/step - loss: 1.1723 - val_loss: 1.0689\n",
      "Epoch 38/600\n",
      "24/24 [==============================] - 0s 5ms/step - loss: 1.1131 - val_loss: 1.0579\n",
      "Epoch 39/600\n",
      "24/24 [==============================] - 0s 5ms/step - loss: 1.1210 - val_loss: 1.0592\n",
      "Epoch 40/600\n",
      "24/24 [==============================] - 0s 5ms/step - loss: 1.1119 - val_loss: 1.0555\n",
      "Epoch 41/600\n",
      "24/24 [==============================] - 0s 5ms/step - loss: 1.1142 - val_loss: 1.0458\n",
      "Epoch 42/600\n",
      "24/24 [==============================] - 0s 5ms/step - loss: 1.1237 - val_loss: 1.0408\n",
      "Epoch 43/600\n",
      "24/24 [==============================] - 0s 5ms/step - loss: 1.1039 - val_loss: 1.0312\n",
      "Epoch 44/600\n",
      "24/24 [==============================] - 0s 5ms/step - loss: 1.1101 - val_loss: 1.0371\n",
      "Epoch 45/600\n",
      "24/24 [==============================] - 0s 5ms/step - loss: 1.1473 - val_loss: 1.0371\n",
      "Epoch 46/600\n",
      "24/24 [==============================] - 0s 5ms/step - loss: 1.1048 - val_loss: 1.0370\n",
      "Epoch 47/600\n",
      "24/24 [==============================] - 0s 5ms/step - loss: 1.1163 - val_loss: 1.0383\n",
      "Epoch 48/600\n",
      "24/24 [==============================] - 0s 5ms/step - loss: 1.0679 - val_loss: 1.0371\n",
      "Epoch 49/600\n",
      "24/24 [==============================] - 0s 5ms/step - loss: 1.0941 - val_loss: 1.0326\n",
      "Epoch 50/600\n",
      "24/24 [==============================] - 0s 5ms/step - loss: 1.0883 - val_loss: 1.0406\n",
      "Epoch 51/600\n",
      "24/24 [==============================] - 0s 5ms/step - loss: 1.0552 - val_loss: 1.0338\n",
      "Epoch 52/600\n",
      "24/24 [==============================] - 0s 5ms/step - loss: 1.0669 - val_loss: 1.0202\n",
      "Epoch 53/600\n",
      "24/24 [==============================] - 0s 5ms/step - loss: 1.0556 - val_loss: 1.0249\n",
      "Epoch 54/600\n",
      "24/24 [==============================] - 0s 6ms/step - loss: 1.1097 - val_loss: 1.0158\n",
      "Epoch 55/600\n",
      "24/24 [==============================] - 0s 4ms/step - loss: 1.1085 - val_loss: 1.0266\n",
      "Epoch 56/600\n",
      "24/24 [==============================] - 0s 4ms/step - loss: 1.0759 - val_loss: 1.0299\n",
      "Epoch 57/600\n",
      "24/24 [==============================] - 0s 4ms/step - loss: 1.0669 - val_loss: 1.0319\n",
      "Epoch 58/600\n",
      "24/24 [==============================] - 0s 5ms/step - loss: 1.0934 - val_loss: 1.0223\n",
      "Epoch 59/600\n",
      "24/24 [==============================] - 0s 5ms/step - loss: 1.0601 - val_loss: 1.0249\n",
      "Epoch 60/600\n",
      "24/24 [==============================] - 0s 5ms/step - loss: 1.0742 - val_loss: 1.0192\n",
      "Epoch 61/600\n",
      "24/24 [==============================] - 0s 4ms/step - loss: 1.0777 - val_loss: 1.0222\n",
      "Epoch 62/600\n",
      "24/24 [==============================] - 0s 5ms/step - loss: 1.0426 - val_loss: 1.0145\n",
      "Epoch 63/600\n",
      "24/24 [==============================] - 0s 5ms/step - loss: 1.0539 - val_loss: 1.0151\n",
      "Epoch 64/600\n",
      "24/24 [==============================] - 0s 4ms/step - loss: 1.0413 - val_loss: 1.0073\n",
      "Epoch 65/600\n",
      "24/24 [==============================] - 0s 5ms/step - loss: 1.0634 - val_loss: 1.0053\n",
      "Epoch 66/600\n",
      "24/24 [==============================] - 0s 4ms/step - loss: 1.0563 - val_loss: 1.0027\n",
      "Epoch 67/600\n",
      "24/24 [==============================] - 0s 5ms/step - loss: 1.0246 - val_loss: 1.0113\n",
      "Epoch 68/600\n",
      "24/24 [==============================] - 0s 5ms/step - loss: 1.0143 - val_loss: 1.0090\n",
      "Epoch 69/600\n",
      "24/24 [==============================] - 0s 4ms/step - loss: 1.0170 - val_loss: 0.9984\n",
      "Epoch 70/600\n",
      "24/24 [==============================] - 0s 4ms/step - loss: 1.0441 - val_loss: 0.9933\n",
      "Epoch 71/600\n",
      "24/24 [==============================] - 0s 4ms/step - loss: 1.0272 - val_loss: 1.0095\n",
      "Epoch 72/600\n",
      "24/24 [==============================] - 0s 5ms/step - loss: 1.0456 - val_loss: 1.0220\n",
      "Epoch 73/600\n",
      "24/24 [==============================] - 0s 5ms/step - loss: 1.0375 - val_loss: 1.0225\n",
      "Epoch 74/600\n",
      "24/24 [==============================] - 0s 4ms/step - loss: 1.0323 - val_loss: 1.0153\n",
      "Epoch 75/600\n",
      "24/24 [==============================] - 0s 5ms/step - loss: 1.0354 - val_loss: 1.0018\n",
      "Epoch 76/600\n",
      "24/24 [==============================] - 0s 5ms/step - loss: 1.0408 - val_loss: 1.0003\n",
      "Epoch 77/600\n",
      "24/24 [==============================] - 0s 5ms/step - loss: 1.0183 - val_loss: 0.9960\n",
      "Epoch 78/600\n",
      "24/24 [==============================] - 0s 5ms/step - loss: 1.0162 - val_loss: 0.9955\n",
      "Epoch 79/600\n",
      "24/24 [==============================] - 0s 5ms/step - loss: 1.0238 - val_loss: 0.9953\n",
      "Epoch 80/600\n",
      "24/24 [==============================] - 0s 5ms/step - loss: 1.0173 - val_loss: 0.9988\n",
      "Epoch 81/600\n",
      "24/24 [==============================] - 0s 5ms/step - loss: 1.0119 - val_loss: 1.0028\n",
      "Epoch 82/600\n",
      "24/24 [==============================] - 0s 5ms/step - loss: 0.9872 - val_loss: 1.0059\n",
      "Epoch 83/600\n"
     ]
    },
    {
     "name": "stdout",
     "output_type": "stream",
     "text": [
      "24/24 [==============================] - 0s 4ms/step - loss: 0.9820 - val_loss: 1.0087\n",
      "Epoch 84/600\n",
      "24/24 [==============================] - 0s 5ms/step - loss: 1.0109 - val_loss: 0.9964\n",
      "Epoch 85/600\n",
      "24/24 [==============================] - 0s 4ms/step - loss: 1.0019 - val_loss: 1.0012\n",
      "Epoch 86/600\n",
      "24/24 [==============================] - 0s 7ms/step - loss: 1.0002 - val_loss: 1.0004\n",
      "Epoch 87/600\n",
      "24/24 [==============================] - 0s 5ms/step - loss: 1.0187 - val_loss: 0.9965\n",
      "Epoch 88/600\n",
      "24/24 [==============================] - 0s 4ms/step - loss: 0.9817 - val_loss: 1.0003\n",
      "Epoch 89/600\n",
      "24/24 [==============================] - 0s 4ms/step - loss: 1.0079 - val_loss: 0.9925\n",
      "Epoch 90/600\n",
      "24/24 [==============================] - 0s 5ms/step - loss: 0.9943 - val_loss: 0.9943\n",
      "Epoch 91/600\n",
      "24/24 [==============================] - 0s 5ms/step - loss: 0.9977 - val_loss: 0.9949\n",
      "Epoch 92/600\n",
      "24/24 [==============================] - 0s 6ms/step - loss: 0.9769 - val_loss: 0.9904\n",
      "Epoch 93/600\n",
      "24/24 [==============================] - 0s 4ms/step - loss: 0.9983 - val_loss: 0.9950\n",
      "Epoch 94/600\n",
      "24/24 [==============================] - 0s 5ms/step - loss: 0.9626 - val_loss: 0.9828\n",
      "Epoch 95/600\n",
      "24/24 [==============================] - 0s 4ms/step - loss: 0.9796 - val_loss: 0.9865\n",
      "Epoch 96/600\n",
      "24/24 [==============================] - 0s 5ms/step - loss: 1.0019 - val_loss: 0.9826\n",
      "Epoch 97/600\n",
      "24/24 [==============================] - 0s 4ms/step - loss: 1.0180 - val_loss: 0.9826\n",
      "Epoch 98/600\n",
      "24/24 [==============================] - 0s 5ms/step - loss: 0.9744 - val_loss: 0.9821\n",
      "Epoch 99/600\n",
      "24/24 [==============================] - 0s 4ms/step - loss: 0.9944 - val_loss: 0.9806\n",
      "Epoch 100/600\n",
      "24/24 [==============================] - 0s 5ms/step - loss: 0.9861 - val_loss: 0.9763\n",
      "Epoch 101/600\n",
      "24/24 [==============================] - 0s 5ms/step - loss: 0.9999 - val_loss: 0.9805\n",
      "Epoch 102/600\n",
      "24/24 [==============================] - 0s 4ms/step - loss: 0.9836 - val_loss: 0.9859\n",
      "Epoch 103/600\n",
      "24/24 [==============================] - 0s 5ms/step - loss: 0.9830 - val_loss: 0.9835\n",
      "Epoch 104/600\n",
      "24/24 [==============================] - 0s 5ms/step - loss: 0.9995 - val_loss: 0.9774\n",
      "Epoch 105/600\n",
      "24/24 [==============================] - 0s 5ms/step - loss: 0.9930 - val_loss: 0.9784\n",
      "Epoch 106/600\n",
      "24/24 [==============================] - 0s 4ms/step - loss: 0.9719 - val_loss: 0.9698\n",
      "Epoch 107/600\n",
      "24/24 [==============================] - 0s 4ms/step - loss: 0.9883 - val_loss: 0.9699\n",
      "Epoch 108/600\n",
      "24/24 [==============================] - 0s 4ms/step - loss: 0.9866 - val_loss: 0.9682\n",
      "Epoch 109/600\n",
      "24/24 [==============================] - 0s 3ms/step - loss: 0.9765 - val_loss: 0.9717\n",
      "Epoch 110/600\n",
      "24/24 [==============================] - 0s 3ms/step - loss: 0.9612 - val_loss: 0.9726\n",
      "Epoch 111/600\n",
      "24/24 [==============================] - 0s 3ms/step - loss: 0.9812 - val_loss: 0.9738\n",
      "Epoch 112/600\n",
      "24/24 [==============================] - 0s 3ms/step - loss: 0.9833 - val_loss: 0.9665\n",
      "Epoch 113/600\n",
      "24/24 [==============================] - 0s 3ms/step - loss: 0.9568 - val_loss: 0.9624\n",
      "Epoch 114/600\n",
      "24/24 [==============================] - 0s 4ms/step - loss: 0.9749 - val_loss: 0.9568\n",
      "Epoch 115/600\n",
      "24/24 [==============================] - 0s 3ms/step - loss: 0.9430 - val_loss: 0.9633\n",
      "Epoch 116/600\n",
      "24/24 [==============================] - 0s 3ms/step - loss: 0.9708 - val_loss: 0.9538\n",
      "Epoch 117/600\n",
      "24/24 [==============================] - 0s 3ms/step - loss: 0.9510 - val_loss: 0.9622\n",
      "Epoch 118/600\n",
      "24/24 [==============================] - 0s 3ms/step - loss: 0.9813 - val_loss: 0.9719\n",
      "Epoch 119/600\n",
      "24/24 [==============================] - 0s 3ms/step - loss: 0.9661 - val_loss: 0.9692\n",
      "Epoch 120/600\n",
      "24/24 [==============================] - 0s 3ms/step - loss: 0.9562 - val_loss: 0.9646\n",
      "Epoch 121/600\n",
      "24/24 [==============================] - 0s 3ms/step - loss: 0.9711 - val_loss: 0.9440\n",
      "Epoch 122/600\n",
      "24/24 [==============================] - 0s 3ms/step - loss: 0.9429 - val_loss: 0.9519\n",
      "Epoch 123/600\n",
      "24/24 [==============================] - 0s 3ms/step - loss: 0.9643 - val_loss: 0.9551\n",
      "Epoch 124/600\n",
      "24/24 [==============================] - 0s 3ms/step - loss: 0.9667 - val_loss: 0.9583\n",
      "Epoch 125/600\n",
      "24/24 [==============================] - 0s 4ms/step - loss: 0.9630 - val_loss: 0.9458\n",
      "Epoch 126/600\n",
      "24/24 [==============================] - 0s 3ms/step - loss: 0.9592 - val_loss: 0.9405\n",
      "Epoch 127/600\n",
      "24/24 [==============================] - 0s 3ms/step - loss: 0.9231 - val_loss: 0.9432\n",
      "Epoch 128/600\n",
      "24/24 [==============================] - 0s 3ms/step - loss: 0.9509 - val_loss: 0.9537\n",
      "Epoch 129/600\n",
      "24/24 [==============================] - 0s 3ms/step - loss: 0.9656 - val_loss: 0.9409\n",
      "Epoch 130/600\n",
      "24/24 [==============================] - 0s 3ms/step - loss: 0.9549 - val_loss: 0.9501\n",
      "Epoch 131/600\n",
      "24/24 [==============================] - 0s 3ms/step - loss: 0.9588 - val_loss: 0.9504\n",
      "Epoch 132/600\n",
      "24/24 [==============================] - 0s 3ms/step - loss: 0.9668 - val_loss: 0.9489\n",
      "Epoch 133/600\n",
      "24/24 [==============================] - 0s 3ms/step - loss: 0.9659 - val_loss: 0.9415\n",
      "Epoch 134/600\n",
      "24/24 [==============================] - 0s 3ms/step - loss: 0.9603 - val_loss: 0.9517\n",
      "Epoch 135/600\n",
      "24/24 [==============================] - 0s 3ms/step - loss: 0.9661 - val_loss: 0.9485\n",
      "Epoch 136/600\n",
      "24/24 [==============================] - 0s 3ms/step - loss: 0.9383 - val_loss: 0.9470\n",
      "Epoch 137/600\n",
      "24/24 [==============================] - 0s 4ms/step - loss: 0.9636 - val_loss: 0.9423\n",
      "Epoch 138/600\n",
      "24/24 [==============================] - 0s 2ms/step - loss: 0.9455 - val_loss: 0.9390\n",
      "Epoch 139/600\n",
      "24/24 [==============================] - 0s 4ms/step - loss: 0.9339 - val_loss: 0.9411\n",
      "Epoch 140/600\n",
      "24/24 [==============================] - 0s 3ms/step - loss: 0.9412 - val_loss: 0.9312\n",
      "Epoch 141/600\n",
      "24/24 [==============================] - 0s 4ms/step - loss: 0.9400 - val_loss: 0.9353\n",
      "Epoch 142/600\n",
      "24/24 [==============================] - 0s 3ms/step - loss: 0.9694 - val_loss: 0.9441\n",
      "Epoch 143/600\n",
      "24/24 [==============================] - 0s 4ms/step - loss: 0.9265 - val_loss: 0.9313\n",
      "Epoch 144/600\n",
      "24/24 [==============================] - 0s 4ms/step - loss: 0.9449 - val_loss: 0.9384\n",
      "Epoch 145/600\n",
      "24/24 [==============================] - 0s 3ms/step - loss: 0.9442 - val_loss: 0.9377\n",
      "Epoch 146/600\n",
      "24/24 [==============================] - 0s 4ms/step - loss: 0.9258 - val_loss: 0.9444\n",
      "Epoch 147/600\n",
      "24/24 [==============================] - 0s 3ms/step - loss: 0.9605 - val_loss: 0.9477\n",
      "Epoch 148/600\n",
      "24/24 [==============================] - 0s 3ms/step - loss: 0.9402 - val_loss: 0.9428\n",
      "Epoch 149/600\n",
      "24/24 [==============================] - 0s 3ms/step - loss: 0.9154 - val_loss: 0.9341\n",
      "Epoch 150/600\n",
      "24/24 [==============================] - 0s 3ms/step - loss: 0.9374 - val_loss: 0.9452\n",
      "Epoch 151/600\n",
      "24/24 [==============================] - 0s 3ms/step - loss: 0.9220 - val_loss: 0.9392\n",
      "Epoch 152/600\n",
      "24/24 [==============================] - 0s 3ms/step - loss: 0.9250 - val_loss: 0.9373\n",
      "Epoch 153/600\n",
      "24/24 [==============================] - 0s 4ms/step - loss: 0.9190 - val_loss: 0.9354\n",
      "Epoch 154/600\n",
      "24/24 [==============================] - 0s 3ms/step - loss: 0.8968 - val_loss: 0.9474\n",
      "Epoch 155/600\n",
      "24/24 [==============================] - 0s 3ms/step - loss: 0.9120 - val_loss: 0.9394\n",
      "Epoch 156/600\n",
      "24/24 [==============================] - 0s 4ms/step - loss: 0.9310 - val_loss: 0.9373\n",
      "Epoch 157/600\n",
      "24/24 [==============================] - 0s 3ms/step - loss: 0.9428 - val_loss: 0.9363\n",
      "Epoch 158/600\n",
      "24/24 [==============================] - 0s 3ms/step - loss: 0.9336 - val_loss: 0.9206\n",
      "Epoch 159/600\n",
      "24/24 [==============================] - 0s 4ms/step - loss: 0.9461 - val_loss: 0.9380\n",
      "Epoch 160/600\n",
      "24/24 [==============================] - 0s 3ms/step - loss: 0.9360 - val_loss: 0.9310\n",
      "Epoch 161/600\n",
      "24/24 [==============================] - 0s 4ms/step - loss: 0.9193 - val_loss: 0.9236\n",
      "Epoch 162/600\n",
      "24/24 [==============================] - 0s 4ms/step - loss: 0.9136 - val_loss: 0.9240\n",
      "Epoch 163/600\n",
      "24/24 [==============================] - 0s 4ms/step - loss: 0.9106 - val_loss: 0.9180\n",
      "Epoch 164/600\n"
     ]
    },
    {
     "name": "stdout",
     "output_type": "stream",
     "text": [
      "24/24 [==============================] - 0s 3ms/step - loss: 0.9586 - val_loss: 0.9304\n",
      "Epoch 165/600\n",
      "24/24 [==============================] - 0s 5ms/step - loss: 0.9303 - val_loss: 0.9235\n",
      "Epoch 166/600\n",
      "24/24 [==============================] - 0s 3ms/step - loss: 0.9384 - val_loss: 0.9303\n",
      "Epoch 167/600\n",
      "24/24 [==============================] - 0s 3ms/step - loss: 0.9404 - val_loss: 0.9260\n",
      "Epoch 168/600\n",
      "24/24 [==============================] - 0s 3ms/step - loss: 0.9097 - val_loss: 0.9256\n",
      "Epoch 169/600\n",
      "24/24 [==============================] - 0s 3ms/step - loss: 0.9325 - val_loss: 0.9252\n",
      "Epoch 170/600\n",
      "24/24 [==============================] - 0s 3ms/step - loss: 0.9148 - val_loss: 0.9208\n",
      "Epoch 171/600\n",
      "24/24 [==============================] - 0s 3ms/step - loss: 0.9217 - val_loss: 0.9290\n",
      "Epoch 172/600\n",
      "24/24 [==============================] - 0s 3ms/step - loss: 0.8957 - val_loss: 0.9222\n",
      "Epoch 173/600\n",
      "24/24 [==============================] - 0s 3ms/step - loss: 0.9342 - val_loss: 0.9113\n",
      "Epoch 174/600\n",
      "24/24 [==============================] - 0s 3ms/step - loss: 0.8879 - val_loss: 0.9031\n",
      "Epoch 175/600\n",
      "24/24 [==============================] - 0s 3ms/step - loss: 0.9074 - val_loss: 0.9015\n",
      "Epoch 176/600\n",
      "24/24 [==============================] - 0s 3ms/step - loss: 0.9493 - val_loss: 0.9050\n",
      "Epoch 177/600\n",
      "24/24 [==============================] - 0s 3ms/step - loss: 0.9048 - val_loss: 0.9124\n",
      "Epoch 178/600\n",
      "24/24 [==============================] - 0s 3ms/step - loss: 0.8995 - val_loss: 0.9072\n",
      "Epoch 179/600\n",
      "24/24 [==============================] - 0s 3ms/step - loss: 0.9210 - val_loss: 0.9079\n",
      "Epoch 180/600\n",
      "24/24 [==============================] - 0s 3ms/step - loss: 0.9063 - val_loss: 0.9094\n",
      "Epoch 181/600\n",
      "24/24 [==============================] - 0s 3ms/step - loss: 0.9236 - val_loss: 0.9110\n",
      "Epoch 182/600\n",
      "24/24 [==============================] - 0s 3ms/step - loss: 0.9152 - val_loss: 0.9212\n",
      "Epoch 183/600\n",
      "24/24 [==============================] - 0s 3ms/step - loss: 0.8782 - val_loss: 0.9188\n",
      "Epoch 184/600\n",
      "24/24 [==============================] - 0s 3ms/step - loss: 0.9092 - val_loss: 0.9098\n",
      "Epoch 185/600\n",
      "24/24 [==============================] - 0s 3ms/step - loss: 0.9032 - val_loss: 0.9079\n",
      "Epoch 186/600\n",
      "24/24 [==============================] - 0s 3ms/step - loss: 0.9052 - val_loss: 0.9144\n",
      "Epoch 187/600\n",
      "24/24 [==============================] - 0s 4ms/step - loss: 0.9265 - val_loss: 0.9052\n",
      "Epoch 188/600\n",
      "24/24 [==============================] - 0s 3ms/step - loss: 0.8606 - val_loss: 0.9124\n",
      "Epoch 189/600\n",
      "24/24 [==============================] - 0s 3ms/step - loss: 0.9334 - val_loss: 0.8906\n",
      "Epoch 190/600\n",
      "24/24 [==============================] - 0s 3ms/step - loss: 0.9237 - val_loss: 0.9159\n",
      "Epoch 191/600\n",
      "24/24 [==============================] - 0s 3ms/step - loss: 0.8908 - val_loss: 0.8923\n",
      "Epoch 192/600\n",
      "24/24 [==============================] - 0s 3ms/step - loss: 0.9061 - val_loss: 0.8849\n",
      "Epoch 193/600\n",
      "24/24 [==============================] - 0s 3ms/step - loss: 0.9090 - val_loss: 0.9048\n",
      "Epoch 194/600\n",
      "24/24 [==============================] - 0s 3ms/step - loss: 0.9102 - val_loss: 0.9209\n",
      "Epoch 195/600\n",
      "24/24 [==============================] - 0s 3ms/step - loss: 0.9188 - val_loss: 0.8902\n",
      "Epoch 196/600\n",
      "24/24 [==============================] - 0s 3ms/step - loss: 0.9019 - val_loss: 0.8847\n",
      "Epoch 197/600\n",
      "24/24 [==============================] - 0s 3ms/step - loss: 0.8907 - val_loss: 0.8880\n",
      "Epoch 198/600\n",
      "24/24 [==============================] - 0s 4ms/step - loss: 0.8797 - val_loss: 0.9217\n",
      "Epoch 199/600\n",
      "24/24 [==============================] - 0s 4ms/step - loss: 0.8916 - val_loss: 0.9121\n",
      "Epoch 200/600\n",
      "24/24 [==============================] - 0s 3ms/step - loss: 0.8884 - val_loss: 0.9152\n",
      "Epoch 201/600\n",
      "24/24 [==============================] - 0s 3ms/step - loss: 0.9003 - val_loss: 0.9032\n",
      "Epoch 202/600\n",
      "24/24 [==============================] - 0s 3ms/step - loss: 0.8923 - val_loss: 0.8897\n",
      "Epoch 203/600\n",
      "24/24 [==============================] - 0s 3ms/step - loss: 0.8936 - val_loss: 0.9018\n",
      "Epoch 204/600\n",
      "24/24 [==============================] - 0s 3ms/step - loss: 0.8943 - val_loss: 0.8894\n",
      "Epoch 205/600\n",
      "24/24 [==============================] - 0s 4ms/step - loss: 0.8867 - val_loss: 0.9034\n",
      "Epoch 206/600\n",
      "24/24 [==============================] - 0s 3ms/step - loss: 0.8948 - val_loss: 0.8931\n",
      "Epoch 207/600\n",
      "24/24 [==============================] - 0s 3ms/step - loss: 0.8890 - val_loss: 0.9026\n",
      "Epoch 208/600\n",
      "24/24 [==============================] - 0s 3ms/step - loss: 0.8750 - val_loss: 0.8983\n",
      "Epoch 209/600\n",
      "24/24 [==============================] - 0s 3ms/step - loss: 0.8893 - val_loss: 0.8913\n",
      "Epoch 210/600\n",
      "24/24 [==============================] - 0s 3ms/step - loss: 0.8738 - val_loss: 0.8870\n",
      "Epoch 211/600\n",
      "24/24 [==============================] - 0s 3ms/step - loss: 0.9138 - val_loss: 0.8817\n",
      "Epoch 212/600\n",
      "24/24 [==============================] - 0s 3ms/step - loss: 0.8731 - val_loss: 0.9057\n",
      "Epoch 213/600\n",
      "24/24 [==============================] - 0s 3ms/step - loss: 0.9030 - val_loss: 0.9158\n",
      "Epoch 214/600\n",
      "24/24 [==============================] - 0s 4ms/step - loss: 0.8758 - val_loss: 0.9047\n",
      "Epoch 215/600\n",
      "24/24 [==============================] - 0s 3ms/step - loss: 0.8516 - val_loss: 0.8934\n",
      "Epoch 216/600\n",
      "24/24 [==============================] - 0s 4ms/step - loss: 0.9004 - val_loss: 0.8961\n",
      "Epoch 217/600\n",
      "24/24 [==============================] - 0s 3ms/step - loss: 0.8727 - val_loss: 0.8922\n",
      "Epoch 218/600\n",
      "24/24 [==============================] - 0s 4ms/step - loss: 0.8966 - val_loss: 0.9068\n",
      "Epoch 219/600\n",
      "24/24 [==============================] - 0s 4ms/step - loss: 0.8997 - val_loss: 0.8926\n",
      "Epoch 220/600\n",
      "24/24 [==============================] - 0s 3ms/step - loss: 0.8914 - val_loss: 0.8753\n",
      "Epoch 221/600\n",
      "24/24 [==============================] - 0s 5ms/step - loss: 0.8718 - val_loss: 0.8975\n",
      "Epoch 222/600\n",
      "24/24 [==============================] - 0s 5ms/step - loss: 0.8428 - val_loss: 0.8857\n",
      "Epoch 223/600\n",
      "24/24 [==============================] - 0s 4ms/step - loss: 0.8722 - val_loss: 0.8837\n",
      "Epoch 224/600\n",
      "24/24 [==============================] - 0s 5ms/step - loss: 0.8664 - val_loss: 0.9031\n",
      "Epoch 225/600\n",
      "24/24 [==============================] - 0s 5ms/step - loss: 0.8733 - val_loss: 0.8892\n",
      "Epoch 226/600\n",
      "24/24 [==============================] - 0s 5ms/step - loss: 0.8990 - val_loss: 0.8723\n",
      "Epoch 227/600\n",
      "24/24 [==============================] - 0s 5ms/step - loss: 0.8888 - val_loss: 0.8790\n",
      "Epoch 228/600\n",
      "24/24 [==============================] - 0s 5ms/step - loss: 0.8917 - val_loss: 0.9001\n",
      "Epoch 229/600\n",
      "24/24 [==============================] - 0s 5ms/step - loss: 0.9020 - val_loss: 0.8940\n",
      "Epoch 230/600\n",
      "24/24 [==============================] - 0s 5ms/step - loss: 0.8909 - val_loss: 0.9051\n",
      "Epoch 231/600\n",
      "24/24 [==============================] - 0s 5ms/step - loss: 0.8807 - val_loss: 0.8896\n",
      "Epoch 232/600\n",
      "24/24 [==============================] - 0s 5ms/step - loss: 0.8326 - val_loss: 0.8824\n",
      "Epoch 233/600\n",
      "24/24 [==============================] - 0s 5ms/step - loss: 0.8926 - val_loss: 0.8746\n",
      "Epoch 234/600\n",
      "24/24 [==============================] - 0s 4ms/step - loss: 0.9023 - val_loss: 0.8719\n",
      "Epoch 235/600\n",
      "24/24 [==============================] - 0s 4ms/step - loss: 0.8784 - val_loss: 0.8777\n",
      "Epoch 236/600\n",
      "24/24 [==============================] - 0s 5ms/step - loss: 0.8918 - val_loss: 0.8689\n",
      "Epoch 237/600\n",
      "24/24 [==============================] - 0s 4ms/step - loss: 0.9025 - val_loss: 0.8677\n",
      "Epoch 238/600\n",
      "24/24 [==============================] - 0s 4ms/step - loss: 0.8867 - val_loss: 0.8920\n",
      "Epoch 239/600\n",
      "24/24 [==============================] - 0s 5ms/step - loss: 0.8841 - val_loss: 0.8678\n",
      "Epoch 240/600\n",
      "24/24 [==============================] - 0s 5ms/step - loss: 0.8915 - val_loss: 0.8618\n",
      "Epoch 241/600\n",
      "24/24 [==============================] - 0s 5ms/step - loss: 0.8788 - val_loss: 0.8741\n",
      "Epoch 242/600\n",
      "24/24 [==============================] - 0s 5ms/step - loss: 0.8588 - val_loss: 0.8735\n",
      "Epoch 243/600\n",
      "24/24 [==============================] - 0s 4ms/step - loss: 0.9163 - val_loss: 0.8717\n",
      "Epoch 244/600\n",
      "24/24 [==============================] - 0s 5ms/step - loss: 0.8308 - val_loss: 0.8872\n",
      "Epoch 245/600\n"
     ]
    },
    {
     "name": "stdout",
     "output_type": "stream",
     "text": [
      "24/24 [==============================] - 0s 5ms/step - loss: 0.8844 - val_loss: 0.8671\n",
      "Epoch 246/600\n",
      "24/24 [==============================] - 0s 4ms/step - loss: 0.8505 - val_loss: 0.8726\n",
      "Epoch 247/600\n",
      "24/24 [==============================] - 0s 4ms/step - loss: 0.8942 - val_loss: 0.8711\n",
      "Epoch 248/600\n",
      "24/24 [==============================] - 0s 5ms/step - loss: 0.8715 - val_loss: 0.8786\n",
      "Epoch 249/600\n",
      "24/24 [==============================] - 0s 4ms/step - loss: 0.8675 - val_loss: 0.8684\n",
      "Epoch 250/600\n",
      "24/24 [==============================] - 0s 4ms/step - loss: 0.8857 - val_loss: 0.8787\n",
      "Epoch 251/600\n",
      "24/24 [==============================] - 0s 4ms/step - loss: 0.8340 - val_loss: 0.8739\n",
      "Epoch 252/600\n",
      "24/24 [==============================] - 0s 5ms/step - loss: 0.8721 - val_loss: 0.8694\n",
      "Epoch 253/600\n",
      "24/24 [==============================] - 0s 4ms/step - loss: 0.8755 - val_loss: 0.8744\n",
      "Epoch 254/600\n",
      "24/24 [==============================] - 0s 4ms/step - loss: 0.8984 - val_loss: 0.8890\n",
      "Epoch 255/600\n",
      "24/24 [==============================] - 0s 4ms/step - loss: 0.8440 - val_loss: 0.8787\n",
      "Epoch 256/600\n",
      "24/24 [==============================] - 0s 5ms/step - loss: 0.8531 - val_loss: 0.8703\n",
      "Epoch 257/600\n",
      "24/24 [==============================] - 0s 5ms/step - loss: 0.8294 - val_loss: 0.8753\n",
      "Epoch 258/600\n",
      "24/24 [==============================] - 0s 4ms/step - loss: 0.8482 - val_loss: 0.8673\n",
      "Epoch 259/600\n",
      "24/24 [==============================] - 0s 4ms/step - loss: 0.8678 - val_loss: 0.8887\n",
      "Epoch 260/600\n",
      "24/24 [==============================] - 0s 4ms/step - loss: 0.8727 - val_loss: 0.9022\n",
      "Epoch 261/600\n",
      "24/24 [==============================] - 0s 5ms/step - loss: 0.8962 - val_loss: 0.8698\n",
      "Epoch 262/600\n",
      "24/24 [==============================] - 0s 4ms/step - loss: 0.8444 - val_loss: 0.8573\n",
      "Epoch 263/600\n",
      "24/24 [==============================] - 0s 5ms/step - loss: 0.8766 - val_loss: 0.8566\n",
      "Epoch 264/600\n",
      "24/24 [==============================] - 0s 5ms/step - loss: 0.8564 - val_loss: 0.8711\n",
      "Epoch 265/600\n",
      "24/24 [==============================] - 0s 5ms/step - loss: 0.8690 - val_loss: 0.8669\n",
      "Epoch 266/600\n",
      "24/24 [==============================] - 0s 4ms/step - loss: 0.8641 - val_loss: 0.8568\n",
      "Epoch 267/600\n",
      "24/24 [==============================] - 0s 5ms/step - loss: 0.8580 - val_loss: 0.8634\n",
      "Epoch 268/600\n",
      "24/24 [==============================] - 0s 5ms/step - loss: 0.8594 - val_loss: 0.8843\n",
      "Epoch 269/600\n",
      "24/24 [==============================] - 0s 5ms/step - loss: 0.8499 - val_loss: 0.8568\n",
      "Epoch 270/600\n",
      "24/24 [==============================] - 0s 5ms/step - loss: 0.8395 - val_loss: 0.8436\n",
      "Epoch 271/600\n",
      "24/24 [==============================] - 0s 5ms/step - loss: 0.8322 - val_loss: 0.8499\n",
      "Epoch 272/600\n",
      "24/24 [==============================] - 0s 5ms/step - loss: 0.8541 - val_loss: 0.8500\n",
      "Epoch 273/600\n",
      "24/24 [==============================] - 0s 5ms/step - loss: 0.8384 - val_loss: 0.8693\n",
      "Epoch 274/600\n",
      "24/24 [==============================] - 0s 5ms/step - loss: 0.8396 - val_loss: 0.8514\n",
      "Epoch 275/600\n",
      "24/24 [==============================] - 0s 5ms/step - loss: 0.8588 - val_loss: 0.8688\n",
      "Epoch 276/600\n",
      "24/24 [==============================] - 0s 5ms/step - loss: 0.8417 - val_loss: 0.8808\n",
      "Epoch 277/600\n",
      "24/24 [==============================] - 0s 4ms/step - loss: 0.8675 - val_loss: 0.8776\n",
      "Epoch 278/600\n",
      "24/24 [==============================] - 0s 4ms/step - loss: 0.8401 - val_loss: 0.8546\n",
      "Epoch 279/600\n",
      "24/24 [==============================] - 0s 5ms/step - loss: 0.8626 - val_loss: 0.8601\n",
      "Epoch 280/600\n",
      "24/24 [==============================] - 0s 5ms/step - loss: 0.8377 - val_loss: 0.8527\n",
      "Epoch 281/600\n",
      "24/24 [==============================] - 0s 5ms/step - loss: 0.8410 - val_loss: 0.8487\n",
      "Epoch 282/600\n",
      "24/24 [==============================] - 0s 5ms/step - loss: 0.8468 - val_loss: 0.8615\n",
      "Epoch 283/600\n",
      "24/24 [==============================] - 0s 5ms/step - loss: 0.8165 - val_loss: 0.8619\n",
      "Epoch 284/600\n",
      "24/24 [==============================] - 0s 4ms/step - loss: 0.8618 - val_loss: 0.8664\n",
      "Epoch 285/600\n",
      "24/24 [==============================] - 0s 5ms/step - loss: 0.8311 - val_loss: 0.8649\n",
      "Epoch 286/600\n",
      "24/24 [==============================] - 0s 4ms/step - loss: 0.8370 - val_loss: 0.8524\n",
      "Epoch 287/600\n",
      "24/24 [==============================] - 0s 4ms/step - loss: 0.8721 - val_loss: 0.8552\n",
      "Epoch 288/600\n",
      "24/24 [==============================] - 0s 5ms/step - loss: 0.8476 - val_loss: 0.8586\n",
      "Epoch 289/600\n",
      "24/24 [==============================] - 0s 5ms/step - loss: 0.8679 - val_loss: 0.8394\n",
      "Epoch 290/600\n",
      "24/24 [==============================] - 0s 5ms/step - loss: 0.8474 - val_loss: 0.8588\n",
      "Epoch 291/600\n",
      "24/24 [==============================] - 0s 5ms/step - loss: 0.8334 - val_loss: 0.8490\n",
      "Epoch 292/600\n",
      "24/24 [==============================] - 0s 5ms/step - loss: 0.8114 - val_loss: 0.8530\n",
      "Epoch 293/600\n",
      "24/24 [==============================] - 0s 4ms/step - loss: 0.8251 - val_loss: 0.8537\n",
      "Epoch 294/600\n",
      "24/24 [==============================] - 0s 5ms/step - loss: 0.8496 - val_loss: 0.8477\n",
      "Epoch 295/600\n",
      "24/24 [==============================] - 0s 5ms/step - loss: 0.8381 - val_loss: 0.8536\n",
      "Epoch 296/600\n",
      "24/24 [==============================] - 0s 4ms/step - loss: 0.8705 - val_loss: 0.8420\n",
      "Epoch 297/600\n",
      "24/24 [==============================] - 0s 5ms/step - loss: 0.8215 - val_loss: 0.8508\n",
      "Epoch 298/600\n",
      "24/24 [==============================] - 0s 4ms/step - loss: 0.8563 - val_loss: 0.8585\n",
      "Epoch 299/600\n",
      "24/24 [==============================] - 0s 5ms/step - loss: 0.8391 - val_loss: 0.8533\n",
      "Epoch 300/600\n",
      "24/24 [==============================] - 0s 4ms/step - loss: 0.8630 - val_loss: 0.8517\n",
      "Epoch 301/600\n",
      "24/24 [==============================] - 0s 4ms/step - loss: 0.8653 - val_loss: 0.8453\n",
      "Epoch 302/600\n",
      "24/24 [==============================] - 0s 5ms/step - loss: 0.8687 - val_loss: 0.8904\n",
      "Epoch 303/600\n",
      "24/24 [==============================] - 0s 4ms/step - loss: 0.8368 - val_loss: 0.8590\n",
      "Epoch 304/600\n",
      "24/24 [==============================] - 0s 4ms/step - loss: 0.8750 - val_loss: 0.8628\n",
      "Epoch 305/600\n",
      "24/24 [==============================] - 0s 5ms/step - loss: 0.8466 - val_loss: 0.8591\n",
      "Epoch 306/600\n",
      "24/24 [==============================] - 0s 5ms/step - loss: 0.8493 - val_loss: 0.8523\n",
      "Epoch 307/600\n",
      "24/24 [==============================] - 0s 5ms/step - loss: 0.8296 - val_loss: 0.8515\n",
      "Epoch 308/600\n",
      "24/24 [==============================] - 0s 5ms/step - loss: 0.8215 - val_loss: 0.8467\n",
      "Epoch 309/600\n",
      "24/24 [==============================] - 0s 4ms/step - loss: 0.8350 - val_loss: 0.8547\n",
      "Epoch 310/600\n",
      "24/24 [==============================] - 0s 4ms/step - loss: 0.8616 - val_loss: 0.8596\n",
      "Epoch 311/600\n",
      "24/24 [==============================] - 0s 4ms/step - loss: 0.8565 - val_loss: 0.8507\n",
      "Epoch 312/600\n",
      "24/24 [==============================] - 0s 3ms/step - loss: 0.8394 - val_loss: 0.8506\n",
      "Epoch 313/600\n",
      "24/24 [==============================] - 0s 3ms/step - loss: 0.8407 - val_loss: 0.8561\n",
      "Epoch 314/600\n",
      "24/24 [==============================] - 0s 3ms/step - loss: 0.8372 - val_loss: 0.8496\n"
     ]
    },
    {
     "data": {
      "text/plain": [
       "<keras.callbacks.History at 0x17694ee2c10>"
      ]
     },
     "execution_count": 57,
     "metadata": {},
     "output_type": "execute_result"
    }
   ],
   "source": [
    "model = Sequential()\n",
    "model.add(Dense(21, activation='relu'))\n",
    "model.add(Dropout(0.2))\n",
    "\n",
    "model.add(Dense(18, activation='relu'))\n",
    "model.add(Dropout(0.2))\n",
    "\n",
    "model.add(Dense(15, activation='relu'))\n",
    "model.add(Dropout(0.2))\n",
    "\n",
    "model.add(Dense(13, activation='relu'))\n",
    "model.add(Dropout(0.2))\n",
    "\n",
    "model.add(Dense(10, activation='softmax'))\n",
    "\n",
    "model.compile(optimizer='adam',loss='sparse_categorical_crossentropy')\n",
    "\n",
    "es = EarlyStopping(monitor = 'val_loss',patience =25)\n",
    "model.fit(x=X_train, y=y_train, validation_data = (X_test,y_test), epochs=600, callbacks=[es])"
   ]
  },
  {
   "cell_type": "code",
   "execution_count": 58,
   "id": "de76f9e7",
   "metadata": {},
   "outputs": [
    {
     "data": {
      "text/plain": [
       "<AxesSubplot:>"
      ]
     },
     "execution_count": 58,
     "metadata": {},
     "output_type": "execute_result"
    },
    {
     "data": {
      "image/png": "[encoded data removed]",
      "text/plain": [
       "<Figure size 432x288 with 1 Axes>"
      ]
     },
     "metadata": {
      "needs_background": "light"
     },
     "output_type": "display_data"
    }
   ],
   "source": [
    "model_loss=pd.DataFrame(model.history.history)\n",
    "model_loss.plot()"
   ]
  },
  {
   "cell_type": "code",
   "execution_count": 59,
   "id": "a1cb726f",
   "metadata": {},
   "outputs": [],
   "source": [
    "nn_pred = model.predict(X_test)\n",
    "preds = []\n",
    "for i in range(len(nn_pred)):\n",
    "    preds.append(np.argmax(nn_pred[i]))"
   ]
  },
  {
   "cell_type": "code",
   "execution_count": 60,
   "id": "064e9e12",
   "metadata": {},
   "outputs": [
    {
     "name": "stdout",
     "output_type": "stream",
     "text": [
      "              precision    recall  f1-score   support\n",
      "\n",
      "           1       1.00      0.40      0.57        15\n",
      "           3       0.66      0.63      0.64        30\n",
      "           5       0.65      0.67      0.66        69\n",
      "           6       0.69      0.47      0.56        38\n",
      "           7       0.52      0.79      0.62        38\n",
      "\n",
      "    accuracy                           0.63       190\n",
      "   macro avg       0.70      0.59      0.61       190\n",
      "weighted avg       0.66      0.63      0.62       190\n",
      "\n"
     ]
    }
   ],
   "source": [
    "print(classification_report(y_test,preds))"
   ]
  },
  {
   "cell_type": "markdown",
   "id": "18647dd2",
   "metadata": {},
   "source": [
    "A few ML models have been applied to the smog test, and I have not been able to model the CO2 rating well. "
   ]
  },
  {
   "cell_type": "markdown",
   "id": "d60cdd79",
   "metadata": {},
   "source": [
    "Can I predict CO2 emissions by fuel consumption?"
   ]
  },
  {
   "cell_type": "code",
   "execution_count": 61,
   "id": "7a6982c2",
   "metadata": {},
   "outputs": [],
   "source": [
    "from sklearn.linear_model import LinearRegression"
   ]
  },
  {
   "cell_type": "code",
   "execution_count": 62,
   "id": "ca76b9b3",
   "metadata": {},
   "outputs": [],
   "source": [
    "X = pd.concat([df[['Fuel Consumption(Hwy (L/100 km))','Fuel Consumption(Comb (L/100 km))','Fuel Consumption(Comb (mpg))']],dummies],axis=1)\n",
    "y = df['CO2 Emissions(g/km)']\n",
    "\n",
    "X_train, X_test, y_train, y_test = train_test_split(X, y, test_size=0.2)\n",
    "\n",
    "scale_lm = MinMaxScaler()\n",
    "X_train = scale_lm.fit_transform(X_train)\n",
    "X_test = scale_lm.transform(X_test)\n",
    "\n",
    "\n",
    "lm = RandomizedSearchCV(LinearRegression(), \n",
    "                        param_distributions = {'fit_intercept':[True,False],\n",
    "                                              'normalize':[True,False],\n",
    "                                               'positive':[True,False]\n",
    "                                              },\n",
    "                                            \n",
    "                       cv=10, n_jobs=-1, n_iter = 60,)"
   ]
  },
  {
   "cell_type": "code",
   "execution_count": 63,
   "id": "5bd9aa53",
   "metadata": {},
   "outputs": [
    {
     "name": "stderr",
     "output_type": "stream",
     "text": [
      "C:\\Users\\rripa\\anaconda3\\lib\\site-packages\\sklearn\\model_selection\\_search.py:285: UserWarning: The total space of parameters 8 is smaller than n_iter=60. Running 8 iterations. For exhaustive searches, use GridSearchCV.\n",
      "  warnings.warn(\n"
     ]
    },
    {
     "data": {
      "text/plain": [
       "RandomizedSearchCV(cv=10, estimator=LinearRegression(), n_iter=60, n_jobs=-1,\n",
       "                   param_distributions={'fit_intercept': [True, False],\n",
       "                                        'normalize': [True, False],\n",
       "                                        'positive': [True, False]})"
      ]
     },
     "execution_count": 63,
     "metadata": {},
     "output_type": "execute_result"
    }
   ],
   "source": [
    "lm.fit(X_train,y_train)"
   ]
  },
  {
   "cell_type": "code",
   "execution_count": 64,
   "id": "9284ca58",
   "metadata": {},
   "outputs": [],
   "source": [
    "pred = lm.predict(X_test)"
   ]
  },
  {
   "cell_type": "code",
   "execution_count": 65,
   "id": "23371611",
   "metadata": {},
   "outputs": [],
   "source": [
    "lm_pred = pd.Series(pred)\n",
    "df_reg = pd.concat([y_test.reset_index(drop=True),lm_pred],axis=1)"
   ]
  },
  {
   "cell_type": "code",
   "execution_count": 66,
   "id": "89bb4b3c",
   "metadata": {},
   "outputs": [],
   "source": [
    "df_reg.columns = ['Real Emissions','Predicted Emissions']"
   ]
  },
  {
   "cell_type": "code",
   "execution_count": 67,
   "id": "e4654dec",
   "metadata": {},
   "outputs": [
    {
     "data": {
      "text/plain": [
       "<seaborn.axisgrid.FacetGrid at 0x176974a4280>"
      ]
     },
     "execution_count": 67,
     "metadata": {},
     "output_type": "execute_result"
    },
    {
     "data": {
      "image/png": "[encoded data removed]",
      "text/plain": [
       "<Figure size 360x360 with 1 Axes>"
      ]
     },
     "metadata": {
      "needs_background": "light"
     },
     "output_type": "display_data"
    }
   ],
   "source": [
    "sns.lmplot(data=df_reg,x='Real Emissions',y='Predicted Emissions')"
   ]
  },
  {
   "cell_type": "code",
   "execution_count": 68,
   "id": "ebc3f6e4",
   "metadata": {},
   "outputs": [],
   "source": [
    "from sklearn.metrics import mean_absolute_error, mean_squared_error"
   ]
  },
  {
   "cell_type": "code",
   "execution_count": 69,
   "id": "b601937e",
   "metadata": {},
   "outputs": [
    {
     "data": {
      "text/plain": [
       "1.5360197368421054"
      ]
     },
     "execution_count": 69,
     "metadata": {},
     "output_type": "execute_result"
    }
   ],
   "source": [
    "mae = mean_absolute_error(lm_pred,y_test)\n",
    "mae"
   ]
  },
  {
   "cell_type": "code",
   "execution_count": 70,
   "id": "748bc98f",
   "metadata": {},
   "outputs": [],
   "source": [
    "from sklearn.metrics import explained_variance_score"
   ]
  },
  {
   "cell_type": "code",
   "execution_count": 71,
   "id": "aa8f9961",
   "metadata": {},
   "outputs": [
    {
     "data": {
      "text/plain": [
       "0.99723866498343"
      ]
     },
     "execution_count": 71,
     "metadata": {},
     "output_type": "execute_result"
    }
   ],
   "source": [
    "explained_variance_score(y_test,lm_pred)"
   ]
  },
  {
   "cell_type": "markdown",
   "id": "201303f1",
   "metadata": {},
   "source": [
    "# Insights"
   ]
  },
  {
   "cell_type": "markdown",
   "id": "d32b74fd",
   "metadata": {},
   "source": [
    "Gasoline cars that do not take premium gas are associatedwith the lowest CO2 emissions and lowest fuel consumptions.\n",
    "Other fuel types appear to be very \"clustered\" with respect to fuel consumption and emissions, as well\n",
    "\n",
    "Premium gasoline-based cars have the worst CO2 emissionsand some of the highest fuel consumption rates, followed by diesel.\n",
    "Flex fuel cars offer the worst emissions to mpg usage of the fuel types.\n",
    "\n",
    "This dataset is highly correlated, which isnt surprising. High horsepower vehicles (e.g. bigger engine sizes and larger amounts of cylinders) emit more CO2, and obviously CO2 score is related to CO2 emissions.\n",
    "\n",
    "In terms of emissions and fuel efficiency, Toyota and Hyundai sedans offer the best footprint. If you want to rather squeeze out a little bit more power, Toyota and Lexus sedans should have more power at the slight cost of fuel efficiency.\n",
    "\n",
    "Fuel type, transmission, and number of cylinders were identified as potential features. These features were broken down into binary dummy variables, and combined with continuous variables such as fuel efficiency and CO2 emissions.\n",
    "\n",
    "A multiclassification Random Forest was performed using RandomizedSearchCV to find the best hyperparameters to model the features to the multi-rating CO2 1-10 scale. \n",
    "\n",
    "While I wasable to provide an exceptional model for CO2, the smog rating was far more difficult to predict. Employing Random Forests, Logistic Regression, and Neural Networks provided no great model, with RF providing an accuracy of about 74%.\n",
    "\n",
    "I was able to predict CO2 emissions given the features listed above using a simple linear regression model. With this, I was able to explain approximately 99.7% of the variance with this model"
   ]
  },
  {
   "cell_type": "code",
   "execution_count": null,
   "id": "6a3d02c8",
   "metadata": {},
   "outputs": [],
   "source": []
  }
 ],
 "metadata": {
  "kernelspec": {
   "display_name": "Python 3 (ipykernel)",
   "language": "python",
   "name": "python3"
  },
  "language_info": {
   "codemirror_mode": {
    "name": "ipython",
    "version": 3
   },
   "file_extension": ".py",
   "mimetype": "text/x-python",
   "name": "python",
   "nbconvert_exporter": "python",
   "pygments_lexer": "ipython3",
   "version": "3.9.7"
  }
 },
 "nbformat": 4,
 "nbformat_minor": 5
}
